{
 "cells": [
  {
   "cell_type": "markdown",
   "metadata": {},
   "source": [
    "**cellular automaton** is a model of a world with very simple physics.  \"Cellular\" means that the space is divided into discrete chunks.  An \"automaton\" is a machine that performs computations--could be a real machine, but more often a mathematical abstraction or computer simulation.\n",
    "\n",
    "most CAs are **deterministic**, which means they do not have any random elements.\n",
    "\n",
    "##Steven Wolfram - 1d CAs\n",
    "diminsion refers to cells having \"neighbors\"\n",
    "\n",
    "* **Finite Sequence** a finite number of cells arranged in a row.  All cells except the first and last have two neighbors\n",
    "\n",
    "*  **Ring** - a finite number of cells arranged in a ring.  All have two neighbors.\n",
    "\n",
    "* **infinite sequence** and infinite number of cells in a row.\n",
    "\n",
    "Rules that determine how a system evolves in time are based on \"neighborhoods\"--the set of cells that determines the state of a given cell.\n",
    "\n",
    "in Wolfram 1d CAs, rule is a binary number indicating outcome of center cell of 3 tuple in next timestep.  Each cell has 'triangle of influence'"
   ]
  },
  {
   "cell_type": "code",
   "execution_count": 2,
   "metadata": {
    "collapsed": false
   },
   "outputs": [],
   "source": [
    "%matplotlib inline\n",
    "import matplotlib.pyplot as plt\n",
    "import numpy as np"
   ]
  },
  {
   "cell_type": "code",
   "execution_count": 2,
   "metadata": {
    "collapsed": false
   },
   "outputs": [],
   "source": [
    "class CA(object):\n",
    "    \n",
    "    def __init__(self, rule, n=100, ratio=2):\n",
    "        \"\"\"\n",
    "        *  rule is an integer between 0 and 255.  make table\n",
    "        uses Wolfram's encoding to make a dictionary that maps\n",
    "        from neighborhood states to cell states.\n",
    "        \n",
    "        * n is number of rows in the array--i.e. time steps\n",
    "        * m is the number columns\n",
    "        * next is the index of the next time step.\n",
    "        \"\"\"\n",
    "        self.table = make_table(rule)\n",
    "        self.n = n\n",
    "        self.m = ratio*n + 1\n",
    "        self.array = numpy.zeros((n, self.m), dtype=np.int8)\n",
    "        self.next = 0\n",
    "        \n",
    "    def single_start(self):\n",
    "        \"\"\"Starts with one cell in the middle of the top row.\"\"\"\n",
    "        self.array[0, self.m/2] = 1\n",
    "        self.next += 1\n",
    "    \n",
    "    def step(self):\n",
    "        \"\"\"looks up state of current row from state of previous row\"\"\"\n",
    "        i = self.next\n",
    "        self.next += 1\n",
    "        \n",
    "        a = self.array\n",
    "        t = self.table\n",
    "        for j in xrange(1, self.m-1):\n",
    "            a[i, j] = t[tuple(a[i-1, j-1:j+2])]"
   ]
  },
  {
   "cell_type": "code",
   "execution_count": 4,
   "metadata": {
    "collapsed": false
   },
   "outputs": [
    {
     "data": {
      "image/png": "[encoded data removed]",
      "text/plain": [
       "<matplotlib.figure.Figure at 0x104ff0c90>"
      ]
     },
     "metadata": {},
     "output_type": "display_data"
    }
   ],
   "source": [
    "import CADrawer\n",
    "from CA import CA\n",
    "\n",
    "n=65\n",
    "rule=18\n",
    "\n",
    "ca = CA(rule, n, ratio=2)\n",
    "ca.start_single()\n",
    "ca.loop(n-1)\n",
    "\n",
    "drawer = CADrawer.PyplotDrawer()\n",
    "drawer.draw(ca)\n",
    "drawer.show()"
   ]
  },
  {
   "cell_type": "code",
   "execution_count": 50,
   "metadata": {
    "collapsed": false
   },
   "outputs": [],
   "source": [
    "class CircularCA(CA):\n",
    "    \n",
    "    def __init__(self, rule, n=100, ratio=2):\n",
    "        \"\"\"\n",
    "        *  rule is an integer between 0 and 255.  make table\n",
    "        uses Wolfram's encoding to make a dictionary that maps\n",
    "        from neighborhood states to cell states.\n",
    "        \n",
    "        * n is number of rows in the array--i.e. time steps\n",
    "        * m is the number columns\n",
    "        * next is the index of the next time step.\n",
    "        \"\"\"\n",
    "        self.table = CA.make_table(self, rule)\n",
    "        self.n = n\n",
    "        self.m = ratio*n + 1 + 2 #add two extra ghost cells\n",
    "        self.array = np.zeros((n, self.m), dtype=np.int8)\n",
    "        self.next = 0\n",
    "        \n",
    "    def start_single(self):\n",
    "        \"\"\"Starts with one cell in the middle of the top row.\"\"\"\n",
    "        self.array[0, 0] = 1\n",
    "        self.next += 1\n",
    "    \n",
    "    def step(self):\n",
    "        \"\"\"looks up state of current row from state of previous row\"\"\"\n",
    "        i = self.next\n",
    "        self.next += 1\n",
    "        \n",
    "        a = self.array\n",
    "        t = self.table\n",
    "        \n",
    "        #ghost cells\n",
    "        a[i,0] = t[(a[i-1, self.m-2], \n",
    "                    a[i-1, 0], \n",
    "                    a[i-1, 1])]\n",
    "        a[i, self.m-1]= a[i, 0]\n",
    "        \n",
    "        for j in xrange(1, self.m-1):\n",
    "            a[i, j] = t[tuple(a[i-1, j-1:j+2])]"
   ]
  },
  {
   "cell_type": "code",
   "execution_count": 89,
   "metadata": {
    "collapsed": false
   },
   "outputs": [
    {
     "data": {
      "image/png": "[encoded data removed]",
      "text/plain": [
       "<matplotlib.figure.Figure at 0x14f25d890>"
      ]
     },
     "metadata": {},
     "output_type": "display_data"
    }
   ],
   "source": [
    "def draw_rule(rule, n=150, circular=False, random=False):\n",
    "    if circular:\n",
    "        ca = CircularCA(rule, n)\n",
    "    else:\n",
    "        ca = CA(rule, n)\n",
    "    if random:\n",
    "        ca.start_random()\n",
    "    else:\n",
    "        ca.start_single()\n",
    "    ca.loop(n-1)\n",
    "\n",
    "    drawer = CADrawer.PyplotDrawer()\n",
    "    drawer.draw(ca)\n",
    "    drawer.show()\n",
    "draw_rule(18)"
   ]
  },
  {
   "cell_type": "markdown",
   "metadata": {},
   "source": [
    "Four classes of CAs\n",
    "1.  CAs that evolve from any starting condition to a uniform pattern.  See rule 0.\n",
    "2.  Generates a simple pattern with nested structure that contains smaller versions of itself.  See rules 50 and 18\n",
    "3.  CAs that Generate Randomness.  See rule 30.  A sample of the center is a **pseudo-random number generator**.\n",
    "4.  ...(see below)"
   ]
  },
  {
   "cell_type": "code",
   "execution_count": 6,
   "metadata": {
    "collapsed": false
   },
   "outputs": [
    {
     "data": {
      "image/png": "[encoded data removed]",
      "text/plain": [
       "<matplotlib.figure.Figure at 0x104ef4190>"
      ]
     },
     "metadata": {},
     "output_type": "display_data"
    }
   ],
   "source": [
    "##rule 3\n",
    "draw_rule(30, n=100)"
   ]
  },
  {
   "cell_type": "markdown",
   "metadata": {},
   "source": [
    "##Exercise 6.2\n",
    "<font color=red>\n",
    "Note: I could not get this to work\n",
    "</font>\n",
    "1.  Linear congruential generators\n",
    "2.  Test it with DieHarder\n",
    "3.  Read documentation of python's random module.  Test with DieHarder\n",
    "4.  Use center cell as random number generator and see how it does."
   ]
  },
  {
   "cell_type": "code",
   "execution_count": 7,
   "metadata": {
    "collapsed": true
   },
   "outputs": [],
   "source": [
    "#1\n",
    "def lin_cong_generator(seed=17, m=2**32, a=22695477, c=1):\n",
    "    x = seed\n",
    "    while True:\n",
    "        x = (a*x + c) % m\n",
    "        yield x"
   ]
  },
  {
   "cell_type": "code",
   "execution_count": 8,
   "metadata": {
    "collapsed": false
   },
   "outputs": [
    {
     "data": {
      "image/png": "[encoded data removed]",
      "text/plain": [
       "<matplotlib.figure.Figure at 0x10b686210>"
      ]
     },
     "metadata": {},
     "output_type": "display_data"
    }
   ],
   "source": [
    "rand = lin_cong_generator()\n",
    "rand_list = []\n",
    "for i in xrange(1000):\n",
    "    rand_list.append(rand.next())\n",
    "fig, ax = plt.subplots()\n",
    "ax.hist(rand_list, bins=1000)\n",
    "plt.show()"
   ]
  },
  {
   "cell_type": "code",
   "execution_count": 9,
   "metadata": {
    "collapsed": false
   },
   "outputs": [
    {
     "name": "stdout",
     "output_type": "stream",
     "text": [
      "# monobitfrequencytest\r\n",
      "0.796253414738\r\n"
     ]
    }
   ],
   "source": [
    "!echo \"110010111001001\" | randomtests/testrandom.py -t 1 -x \n"
   ]
  },
  {
   "cell_type": "code",
   "execution_count": 47,
   "metadata": {
    "collapsed": false
   },
   "outputs": [
    {
     "name": "stdout",
     "output_type": "stream",
     "text": [
      "# monobitfrequencytest\n",
      "0.0\n",
      "# blockfrequencytest\n",
      "0.0\n",
      "# runstest\n",
      "2.0\n",
      "# longestrunones10000\n",
      "0.000274596941113\n",
      "# binarymatrixranktest\n",
      "5.8836752646e-12\n",
      "# spectraltest\n",
      "0.0\n",
      "# nonoverlappingtemplatematchingtest\n",
      "3.90322845107e-07\n",
      "# overlappingtemplatematchingtest\n",
      "9.13796746499e-07\n",
      "# serialtest\n",
      "[0.49896108745859735, 0.498530755295295]\n"
     ]
    }
   ],
   "source": [
    "for i in range(8) + [10]:\n",
    "    !randomtests/testrandom.py -t {i+1} -i rand.txt -j -x\n"
   ]
  },
  {
   "cell_type": "code",
   "execution_count": 87,
   "metadata": {
    "collapsed": false
   },
   "outputs": [
    {
     "name": "stdout",
     "output_type": "stream",
     "text": [
      "[1, 1, 0, 1, 1, 1, 0, 0, 1, 1, 0, 0, 0, 1, 0, 1, 1, 0, 0, 1, 0, 0, 1, 1, 1, 0, 1, 0, 1, 1, 1, 0, 0, 1, 1, 1, 0, 1, 0, 1, 0, 1, 1, 0, 0, 0, 0, 1, 1, 0]\n"
     ]
    }
   ],
   "source": [
    "def rule30generator(n=100):\n",
    "    cca = CircularCA(30)\n",
    "    cca.start_single()\n",
    "    cca.loop(n-1)\n",
    "    \n",
    "    for i in xrange(n-1):\n",
    "        yield cca.array[i+1, cca.m-1]\n",
    "\n",
    "r30_list = []    \n",
    "r30 = rule30generator()\n",
    "for i in xrange(50):\n",
    "    r30_list.append(r30.next())\n",
    "print r30_list"
   ]
  },
  {
   "cell_type": "markdown",
   "metadata": {},
   "source": [
    "(cont'd) 4 classes of CAs\n",
    "4.  **Turing complete** - i.e. can compute any computable function.  Universality.  See rule 110.\n",
    "    * **spaceships** - forms that translate in space.  These spaceships can be thought of as signals that propagate on wires, and collisions between them as gates that compute logical operations like and and for."
   ]
  },
  {
   "cell_type": "code",
   "execution_count": 98,
   "metadata": {
    "collapsed": false
   },
   "outputs": [
    {
     "data": {
      "image/png": "[encoded data removed]",
      "text/plain": [
       "<matplotlib.figure.Figure at 0x1088dae10>"
      ]
     },
     "metadata": {},
     "output_type": "display_data"
    }
   ],
   "source": [
    "draw_rule(110, n=200, random=True, circular=True)"
   ]
  },
  {
   "cell_type": "markdown",
   "metadata": {},
   "source": [
    "##Exercise 6.2"
   ]
  },
  {
   "cell_type": "code",
   "execution_count": 147,
   "metadata": {
    "collapsed": false
   },
   "outputs": [
    {
     "data": {
      "image/png": "[encoded data removed]",
      "text/plain": [
       "<matplotlib.figure.Figure at 0x111d28750>"
      ]
     },
     "metadata": {},
     "output_type": "display_data"
    },
    {
     "data": {
      "image/png": "[encoded data removed]",
      "text/plain": [
       "<matplotlib.figure.Figure at 0x10add8990>"
      ]
     },
     "metadata": {},
     "output_type": "display_data"
    },
    {
     "data": {
      "image/png": "[encoded data removed]",
      "text/plain": [
       "<matplotlib.figure.Figure at 0x1153db750>"
      ]
     },
     "metadata": {},
     "output_type": "display_data"
    },
    {
     "data": {
      "image/png": "[encoded data removed]",
      "text/plain": [
       "<matplotlib.figure.Figure at 0x115945110>"
      ]
     },
     "metadata": {},
     "output_type": "display_data"
    },
    {
     "data": {
      "image/png": "[encoded data removed]",
      "text/plain": [
       "<matplotlib.figure.Figure at 0x10daf2390>"
      ]
     },
     "metadata": {},
     "output_type": "display_data"
    },
    {
     "data": {
      "image/png": "[encoded data removed]",
      "text/plain": [
       "<matplotlib.figure.Figure at 0x113e16610>"
      ]
     },
     "metadata": {},
     "output_type": "display_data"
    },
    {
     "data": {
      "image/png": "[encoded data removed]",
      "text/plain": [
       "<matplotlib.figure.Figure at 0x10b0fb710>"
      ]
     },
     "metadata": {},
     "output_type": "display_data"
    },
    {
     "data": {
      "image/png": "[encoded data removed]",
      "text/plain": [
       "<matplotlib.figure.Figure at 0x1183733d0>"
      ]
     },
     "metadata": {},
     "output_type": "display_data"
    },
    {
     "data": {
      "image/png": "[encoded data removed]",
      "text/plain": [
       "<matplotlib.figure.Figure at 0x117d51f10>"
      ]
     },
     "metadata": {},
     "output_type": "display_data"
    },
    {
     "data": {
      "image/png": "[encoded data removed]",
      "text/plain": [
       "<matplotlib.figure.Figure at 0x10cefde10>"
      ]
     },
     "metadata": {},
     "output_type": "display_data"
    },
    {
     "data": {
      "image/png": "[encoded data removed]",
      "text/plain": [
       "<matplotlib.figure.Figure at 0x10a53bf90>"
      ]
     },
     "metadata": {},
     "output_type": "display_data"
    },
    {
     "data": {
      "image/png": "[encoded data removed]",
      "text/plain": [
       "<matplotlib.figure.Figure at 0x1178d7ad0>"
      ]
     },
     "metadata": {},
     "output_type": "display_data"
    },
    {
     "data": {
      "image/png": "[encoded data removed]",
      "text/plain": [
       "<matplotlib.figure.Figure at 0x1147fed50>"
      ]
     },
     "metadata": {},
     "output_type": "display_data"
    },
    {
     "data": {
      "image/png": "[encoded data removed]",
      "text/plain": [
       "<matplotlib.figure.Figure at 0x113f386d0>"
      ]
     },
     "metadata": {},
     "output_type": "display_data"
    },
    {
     "data": {
      "image/png": "[encoded data removed]",
      "text/plain": [
       "<matplotlib.figure.Figure at 0x11054c850>"
      ]
     },
     "metadata": {},
     "output_type": "display_data"
    },
    {
     "data": {
      "image/png": "[encoded data removed]",
      "text/plain": [
       "<matplotlib.figure.Figure at 0x118f03350>"
      ]
     },
     "metadata": {},
     "output_type": "display_data"
    },
    {
     "data": {
      "image/png": "[encoded data removed]",
      "text/plain": [
       "<matplotlib.figure.Figure at 0x1185ce350>"
      ]
     },
     "metadata": {},
     "output_type": "display_data"
    },
    {
     "data": {
      "image/png": "[encoded data removed]",
      "text/plain": [
       "<matplotlib.figure.Figure at 0x1163ede10>"
      ]
     },
     "metadata": {},
     "output_type": "display_data"
    },
    {
     "data": {
      "image/png": "[encoded data removed]",
      "text/plain": [
       "<matplotlib.figure.Figure at 0x1185d3490>"
      ]
     },
     "metadata": {},
     "output_type": "display_data"
    },
    {
     "data": {
      "image/png": "[encoded data removed]",
      "text/plain": [
       "<matplotlib.figure.Figure at 0x118a80a50>"
      ]
     },
     "metadata": {},
     "output_type": "display_data"
    },
    {
     "data": {
      "image/png": "[encoded data removed]",
      "text/plain": [
       "<matplotlib.figure.Figure at 0x11680dd50>"
      ]
     },
     "metadata": {},
     "output_type": "display_data"
    },
    {
     "data": {
      "image/png": "[encoded data removed]",
      "text/plain": [
       "<matplotlib.figure.Figure at 0x10d058410>"
      ]
     },
     "metadata": {},
     "output_type": "display_data"
    },
    {
     "data": {
      "image/png": "[encoded data removed]",
      "text/plain": [
       "<matplotlib.figure.Figure at 0x11601a410>"
      ]
     },
     "metadata": {},
     "output_type": "display_data"
    },
    {
     "data": {
      "image/png": "[encoded data removed]",
      "text/plain": [
       "<matplotlib.figure.Figure at 0x11780e450>"
      ]
     },
     "metadata": {},
     "output_type": "display_data"
    },
    {
     "data": {
      "image/png": "[encoded data removed]",
      "text/plain": [
       "<matplotlib.figure.Figure at 0x10cd0d110>"
      ]
     },
     "metadata": {},
     "output_type": "display_data"
    },
    {
     "data": {
      "image/png": "[encoded data removed]",
      "text/plain": [
       "<matplotlib.figure.Figure at 0x1103b9090>"
      ]
     },
     "metadata": {},
     "output_type": "display_data"
    },
    {
     "data": {
      "image/png": "[encoded data removed]",
      "text/plain": [
       "<matplotlib.figure.Figure at 0x117c76c10>"
      ]
     },
     "metadata": {},
     "output_type": "display_data"
    },
    {
     "data": {
      "image/png": "[encoded data removed]",
      "text/plain": [
       "<matplotlib.figure.Figure at 0x1186fd790>"
      ]
     },
     "metadata": {},
     "output_type": "display_data"
    },
    {
     "data": {
      "image/png": "[encoded data removed]",
      "text/plain": [
       "<matplotlib.figure.Figure at 0x111fc8650>"
      ]
     },
     "metadata": {},
     "output_type": "display_data"
    },
    {
     "data": {
      "image/png": "[encoded data removed]",
      "text/plain": [
       "<matplotlib.figure.Figure at 0x1146ae210>"
      ]
     },
     "metadata": {},
     "output_type": "display_data"
    },
    {
     "data": {
      "image/png": "[encoded data removed]",
      "text/plain": [
       "<matplotlib.figure.Figure at 0x113992f50>"
      ]
     },
     "metadata": {},
     "output_type": "display_data"
    },
    {
     "data": {
      "image/png": "[encoded data removed]",
      "text/plain": [
       "<matplotlib.figure.Figure at 0x1160a4c10>"
      ]
     },
     "metadata": {},
     "output_type": "display_data"
    },
    {
     "data": {
      "image/png": "[encoded data removed]",
      "text/plain": [
       "<matplotlib.figure.Figure at 0x115f678d0>"
      ]
     },
     "metadata": {},
     "output_type": "display_data"
    },
    {
     "data": {
      "image/png": "[encoded data removed]",
      "text/plain": [
       "<matplotlib.figure.Figure at 0x1111a9550>"
      ]
     },
     "metadata": {},
     "output_type": "display_data"
    },
    {
     "data": {
      "image/png": "[encoded data removed]",
      "text/plain": [
       "<matplotlib.figure.Figure at 0x10a021290>"
      ]
     },
     "metadata": {},
     "output_type": "display_data"
    },
    {
     "data": {
      "image/png": "[encoded data removed]",
      "text/plain": [
       "<matplotlib.figure.Figure at 0x10cdac150>"
      ]
     },
     "metadata": {},
     "output_type": "display_data"
    },
    {
     "data": {
      "image/png": "[encoded data removed]",
      "text/plain": [
       "<matplotlib.figure.Figure at 0x113cf8c50>"
      ]
     },
     "metadata": {},
     "output_type": "display_data"
    },
    {
     "data": {
      "image/png": "[encoded data removed]",
      "text/plain": [
       "<matplotlib.figure.Figure at 0x10db8c450>"
      ]
     },
     "metadata": {},
     "output_type": "display_data"
    },
    {
     "data": {
      "image/png": "[encoded data removed]",
      "text/plain": [
       "<matplotlib.figure.Figure at 0x11123bfd0>"
      ]
     },
     "metadata": {},
     "output_type": "display_data"
    },
    {
     "data": {
      "image/png": "[encoded data removed]",
      "text/plain": [
       "<matplotlib.figure.Figure at 0x10fdb0b50>"
      ]
     },
     "metadata": {},
     "output_type": "display_data"
    },
    {
     "data": {
      "image/png": "[encoded data removed]",
      "text/plain": [
       "<matplotlib.figure.Figure at 0x10febb850>"
      ]
     },
     "metadata": {},
     "output_type": "display_data"
    },
    {
     "data": {
      "image/png": "[encoded data removed]",
      "text/plain": [
       "<matplotlib.figure.Figure at 0x10b75eb10>"
      ]
     },
     "metadata": {},
     "output_type": "display_data"
    },
    {
     "data": {
      "image/png": "[encoded data removed]",
      "text/plain": [
       "<matplotlib.figure.Figure at 0x119145050>"
      ]
     },
     "metadata": {},
     "output_type": "display_data"
    },
    {
     "data": {
      "image/png": "[encoded data removed]",
      "text/plain": [
       "<matplotlib.figure.Figure at 0x10e655b10>"
      ]
     },
     "metadata": {},
     "output_type": "display_data"
    },
    {
     "data": {
      "image/png": "[encoded data removed]",
      "text/plain": [
       "<matplotlib.figure.Figure at 0x11679c050>"
      ]
     },
     "metadata": {},
     "output_type": "display_data"
    },
    {
     "data": {
      "image/png": "[encoded data removed]",
      "text/plain": [
       "<matplotlib.figure.Figure at 0x114729750>"
      ]
     },
     "metadata": {},
     "output_type": "display_data"
    },
    {
     "data": {
      "image/png": "[encoded data removed]",
      "text/plain": [
       "<matplotlib.figure.Figure at 0x117972350>"
      ]
     },
     "metadata": {},
     "output_type": "display_data"
    },
    {
     "data": {
      "image/png": "[encoded data removed]",
      "text/plain": [
       "<matplotlib.figure.Figure at 0x1115fa790>"
      ]
     },
     "metadata": {},
     "output_type": "display_data"
    },
    {
     "data": {
      "image/png": "[encoded data removed]",
      "text/plain": [
       "<matplotlib.figure.Figure at 0x115c24d10>"
      ]
     },
     "metadata": {},
     "output_type": "display_data"
    },
    {
     "data": {
      "image/png": "[encoded data removed]",
      "text/plain": [
       "<matplotlib.figure.Figure at 0x106b92450>"
      ]
     },
     "metadata": {},
     "output_type": "display_data"
    },
    {
     "data": {
      "image/png": "[encoded data removed]",
      "text/plain": [
       "<matplotlib.figure.Figure at 0x117851d10>"
      ]
     },
     "metadata": {},
     "output_type": "display_data"
    },
    {
     "data": {
      "image/png": "[encoded data removed]",
      "text/plain": [
       "<matplotlib.figure.Figure at 0x14f27cad0>"
      ]
     },
     "metadata": {},
     "output_type": "display_data"
    },
    {
     "data": {
      "image/png": "[encoded data removed]",
      "text/plain": [
       "<matplotlib.figure.Figure at 0x1139e5450>"
      ]
     },
     "metadata": {},
     "output_type": "display_data"
    },
    {
     "data": {
      "image/png": "[encoded data removed]",
      "text/plain": [
       "<matplotlib.figure.Figure at 0x1186665d0>"
      ]
     },
     "metadata": {},
     "output_type": "display_data"
    },
    {
     "data": {
      "image/png": "[encoded data removed]",
      "text/plain": [
       "<matplotlib.figure.Figure at 0x1155610d0>"
      ]
     },
     "metadata": {},
     "output_type": "display_data"
    },
    {
     "data": {
      "image/png": "[encoded data removed]",
      "text/plain": [
       "<matplotlib.figure.Figure at 0x1179b30d0>"
      ]
     },
     "metadata": {},
     "output_type": "display_data"
    },
    {
     "data": {
      "image/png": "[encoded data removed]",
      "text/plain": [
       "<matplotlib.figure.Figure at 0x115a2eb90>"
      ]
     },
     "metadata": {},
     "output_type": "display_data"
    },
    {
     "data": {
      "image/png": "[encoded data removed]",
      "text/plain": [
       "<matplotlib.figure.Figure at 0x1179b3810>"
      ]
     },
     "metadata": {},
     "output_type": "display_data"
    },
    {
     "data": {
      "image/png": "[encoded data removed]",
      "text/plain": [
       "<matplotlib.figure.Figure at 0x10fc21f90>"
      ]
     },
     "metadata": {},
     "output_type": "display_data"
    },
    {
     "data": {
      "image/png": "[encoded data removed]",
      "text/plain": [
       "<matplotlib.figure.Figure at 0x118b11ad0>"
      ]
     },
     "metadata": {},
     "output_type": "display_data"
    },
    {
     "data": {
      "image/png": "[encoded data removed]",
      "text/plain": [
       "<matplotlib.figure.Figure at 0x10b4b39d0>"
      ]
     },
     "metadata": {},
     "output_type": "display_data"
    },
    {
     "data": {
      "image/png": "[encoded data removed]",
      "text/plain": [
       "<matplotlib.figure.Figure at 0x117cfbfd0>"
      ]
     },
     "metadata": {},
     "output_type": "display_data"
    },
    {
     "data": {
      "image/png": "[encoded data removed]",
      "text/plain": [
       "<matplotlib.figure.Figure at 0x120c24190>"
      ]
     },
     "metadata": {},
     "output_type": "display_data"
    },
    {
     "data": {
      "image/png": "[encoded data removed]",
      "text/plain": [
       "<matplotlib.figure.Figure at 0x10b1c2ad0>"
      ]
     },
     "metadata": {},
     "output_type": "display_data"
    },
    {
     "data": {
      "text/plain": [
       "<matplotlib.figure.Figure at 0x12505a810>"
      ]
     },
     "metadata": {},
     "output_type": "display_data"
    }
   ],
   "source": [
    "def _start_specific(self, perm):\n",
    "    \"\"\"permutation\"\"\"\n",
    "    if len(perm) > len(self.array.T):\n",
    "        raise ValueError('starting permutation must not have more columns than CA')\n",
    "    for i, state in enumerate(perm):\n",
    "        pos = self.m/2 - len(perm)/2 + i\n",
    "        self.array[0, pos] = state\n",
    "    self.next += 1\n",
    "CA.start_specific = _start_specific\n",
    "    \n",
    "class Rule110Generator(object):\n",
    "    \n",
    "    def __init__(self, n=3, ratio=1, debug=False):\n",
    "        self.perms = self.get_perms(n*ratio)\n",
    "        \n",
    "        self.CAs = {}\n",
    "        for i, perm in enumerate(self.perms):\n",
    "            current = CircularCA(110, n=n, ratio=ratio)\n",
    "            current.start_specific(perm)\n",
    "            current.loop(n-1)\n",
    "\n",
    "            drawer = CADrawer.PyplotDrawer()\n",
    "            drawer.draw(current)\n",
    "            self.CAs[i] = current\n",
    "            plt.figure()\n",
    "            \n",
    "            if debug and i>4:\n",
    "                break\n",
    "        drawer.show()\n",
    "            \n",
    "    def get_perms(self, m):\n",
    "        perms = []\n",
    "        for i in xrange(2**m):\n",
    "            perms.append(binary(i, m))\n",
    "        return perms\n",
    "    \n",
    "\n",
    "r = Rule110Generator()"
   ]
  },
  {
   "cell_type": "markdown",
   "metadata": {},
   "source": [
    "##Exercise 6.3"
   ]
  },
  {
   "cell_type": "code",
   "execution_count": 128,
   "metadata": {
    "collapsed": false
   },
   "outputs": [
    {
     "data": {
      "text/plain": [
       "(1, 2, 3, 1, 2, 3, 1, 2, 3)"
      ]
     },
     "execution_count": 128,
     "metadata": {},
     "output_type": "execute_result"
    }
   ],
   "source": [
    "(1,2,3)*3"
   ]
  },
  {
   "cell_type": "code",
   "execution_count": 28,
   "metadata": {
    "collapsed": false
   },
   "outputs": [],
   "source": [
    "class TuringTable(dict):\n",
    "    \"\"\"\n",
    "    each state, tape symbol maps to a tuple with the following rows:\n",
    "    * tape symbol\n",
    "    * write symbol\n",
    "    * move tape direction\n",
    "    * next state\n",
    "    \"\"\"\n",
    "    def __init__(self):\n",
    "        self['a',0] = (1, 'r','b')\n",
    "        self['a',1] = (1, 'l', 'c')\n",
    "        self['b',0] = (1, 'l', 'a') \n",
    "        self['b',1] = (1, 'r', 'b')\n",
    "        self['c',0] = (1, 'l', 'b')\n",
    "        self['c',1] = (1, 'n', 'h')\n",
    "\n",
    "class HaltException(Exception):\n",
    "    \"\"\"used to halt turing machine\"\"\"\n",
    "\n",
    "class TM(CA):\n",
    "    \n",
    "    def __init__(self, table, m=100):\n",
    "        self.m = m\n",
    "        self.array = np.zeros((1, self.m), dtype=np.int8)\n",
    "        self.next = 0\n",
    "        \n",
    "        #TM properties\n",
    "        self.table = table\n",
    "        self.head = self.m/2\n",
    "        self.state = 'a'\n",
    "        self.move = 'n'\n",
    "        \n",
    "        self.path = []\n",
    "    \n",
    "    def get_path(self):\n",
    "        return self.path\n",
    "        \n",
    "    def step(self, debug=False):        \n",
    "        a = self.array\n",
    "        t = self.table\n",
    "        \n",
    "        transition = self.state, a[-1, self.head]\n",
    "        write, move, state = t[transition]\n",
    "        self.path.append((self.head, move))\n",
    "        \n",
    "        # write\n",
    "        new_row = np.array(a[-1], copy=True)\n",
    "        new_row[self.head] = write  \n",
    "        self.array = np.vstack([a,new_row])\n",
    "        \n",
    "        # move\n",
    "        if move=='r':\n",
    "            self.head += 1\n",
    "        elif move=='l':\n",
    "            self.head -= 1\n",
    "        \n",
    "        # state\n",
    "        if state=='h':\n",
    "            raise HaltException('Computation Over')\n",
    "        else:\n",
    "            self.state = state\n",
    "    \n",
    "    def loop(self, debug=False):\n",
    "        \n",
    "        if debug: i=0\n",
    "        while True:\n",
    "            if debug:\n",
    "                i+=1\n",
    "                if i > 1000: break\n",
    "            try:\n",
    "                self.step()\n",
    "            except HaltException:\n",
    "                print \"Compution complete\"\n",
    "                break"
   ]
  },
  {
   "cell_type": "code",
   "execution_count": 30,
   "metadata": {
    "collapsed": false
   },
   "outputs": [
    {
     "name": "stdout",
     "output_type": "stream",
     "text": [
      "Compution complete\n"
     ]
    },
    {
     "data": {
      "image/png": "[encoded data removed]",
      "text/plain": [
       "<matplotlib.figure.Figure at 0x106683a90>"
      ]
     },
     "metadata": {},
     "output_type": "display_data"
    }
   ],
   "source": [
    "class TMDrawer(CADrawer.Drawer):\n",
    "    \n",
    "    def __init__(self):\n",
    "        # we only need to import pyplot if a PyplotDrawer\n",
    "        # gets instantiated\n",
    "        global pyplot\n",
    "        import matplotlib.pyplot as pyplot\n",
    "        \n",
    "    def draw(self, ca, start=0, end=None):\n",
    "        \"\"\"Draws the CA using pyplot.pcolor.\"\"\"\n",
    "        pyplot.gray()\n",
    "        a = ca.get_array(start, end)\n",
    "        rows, cols = a.shape\n",
    "\n",
    "#         path_array = np.zeros(rows, cols)\n",
    "        path = ca.get_path()\n",
    "        for row, col_dxn in enumerate(path):\n",
    "            col, dxn = col_dxn\n",
    "            a[row+1, col] = 5\n",
    "        \n",
    "        # flipud puts the first row at the top; \n",
    "        # negating it makes the non-zero cells black.\n",
    "        pyplot.pcolor(-np.flipud(a))\n",
    "        pyplot.axis([0, cols, 0, rows])\n",
    "        \n",
    "        # empty lists draw no ticks\n",
    "        pyplot.xticks([])\n",
    "        pyplot.yticks([])\n",
    "\n",
    "    def show(self):\n",
    "        \"\"\"display the pseudocolor representation of the CA\"\"\"\n",
    "        pyplot.show()\n",
    "        \n",
    "bb = TuringTable()\n",
    "tm = TM(bb)\n",
    "tm.loop()\n",
    "# print tm.path\n",
    "\n",
    "tm_drawer = TMDrawer()\n",
    "tm_drawer.draw(tm)\n",
    "tm_drawer.show()"
   ]
  },
  {
   "cell_type": "markdown",
   "metadata": {
    "collapsed": false
   },
   "source": [
    "Why do we say that these cellular automata can compute anything?\n",
    "\n",
    "the forms are neither completely stable nor completely chaotic.  Localized structures appear and interact in various complicated-looking ways.  This complicated-l"
   ]
  },
  {
   "cell_type": "code",
   "execution_count": null,
   "metadata": {
    "collapsed": true
   },
   "outputs": [],
   "source": []
  }
 ],
 "metadata": {
  "kernelspec": {
   "display_name": "Python 2",
   "language": "python",
   "name": "python2"
  },
  "language_info": {
   "codemirror_mode": {
    "name": "ipython",
    "version": 2
   },
   "file_extension": ".py",
   "mimetype": "text/x-python",
   "name": "python",
   "nbconvert_exporter": "python",
   "pygments_lexer": "ipython2",
   "version": "2.7.10"
  }
 },
 "nbformat": 4,
 "nbformat_minor": 0
}
