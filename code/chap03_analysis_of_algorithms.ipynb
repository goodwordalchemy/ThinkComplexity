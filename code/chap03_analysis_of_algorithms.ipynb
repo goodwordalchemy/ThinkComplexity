{
 "cells": [
  {
   "cell_type": "markdown",
   "metadata": {},
   "source": [
    "**machine model** - accounts for the difference in implementation and speed on different machines\n",
    "\n",
    "**worst case** - takes into account different details of the dataset\n",
    "\n",
    "**asymptotically** - express run time as a function of the problem size.\n",
    "\n",
    "##Order of Growth\n",
    "**leading term** is term with highest exponenent.\n",
    "\n",
    "Sometimes coefficient on leading term or other terms can cause a **crossover point** where a higher order algorithm is faster. For algorithmic analysis purposes though, usually this fact is ignored.\n",
    "\n",
    "###Exercise 3.1\n",
    "1.  $n^3$\n",
    "2.  $n^3$\n",
    "3.  $af + b$ grows slower than O(g)\n",
    "4.  $f_1 + f_2$ must grow slower than O(g)\n",
    "5.  $f_1 + f_2$ grows greater than O(g) and slower than g(h) if h > g.\n",
    "6.  $f_1 * f_2$ grows faster than both O(h) and O(g)\n",
    "\n",
    "##Analysis of basic Python operations"
   ]
  },
  {
   "cell_type": "markdown",
   "metadata": {},
   "source": [
    "*  Basic math operations are constant time, with division taking the longest.  \n",
    "\n",
    "* Indexing operations take contstat time as well.  `len` is constant as well.\n",
    "\n",
    "* `min` and `max` are linear.\n",
    "\n",
    "* slicing is linear with the size of the output (independent of input).\n",
    "\n",
    "* string concatenation is linear.  the `join` method is linear in the length of the strings though.\n",
    "\n",
    "* in general, if the body of a for loop is $O(n^a)$, then the whole loop is $O(n^{a+1})$.\n",
    "\n",
    "*  lists:\n",
    "    * sorting is O(nlogn).\n",
    "    * adding or removing elements is constant time.\n",
    "*  dictionaries: mostly constant\n",
    "    * copy is proportional to number of elements (not size of elements--because it copies references)\n",
    "    * update propertional to size of argument\n",
    "    * keys, values, and items are linear.\n",
    "    \n",
    "##Sorting:\n",
    "* Simple Sorts -  O(n^2)\n",
    "  * Insertion Sort - sort elements into new list\n",
    "  * Selection Sort - loop through list for min and swap with first element in place\n",
    "* Efficient Sorts - O(nlogn)\n",
    "  *  Merge Sort\n",
    "  *  Heap Sort - make heap then sort.\n",
    "  *  Quicksort - choose a pivot point and move all elements greater to right side.  recurse\n",
    "* Bubble Sort - loop through set, if first element is greater than second element, swap\n",
    "* Distribution sort - think map reduce\n",
    "\n",
    "\n",
    "###Exercise 3.2\n",
    "1.  comparison sort - only reads list elements through single abstract comparison operation that determines which elements should occur first in the final sorted list.  Think of ordering weights using a scale.  Best worst case is O(nlogn)\n",
    "2.  bubble sort is $n^2$ because you have to cycle through the list n times (if list is completely unsorted).  This is hella slow.\n",
    "3.  radix sort grows at O(n * k) where n is the number of numbers to sort and k is the max number of digits.\n",
    "4.  A stable sort is one that produces the same results every time--even if there are multiple possibilities for the correct answer.\n",
    "5.  Bubble sort and unshuffle sort are both pretty bad.  Cycle is pretty dumb too.\n",
    "6.  Python uses Timsort, which searches for subsets of the data that are already ordered.  Runs are mered with other runs untill done.  This is pretty fast, because it takes advantage of the fact that a lot of the data is already sorted.  \n",
    "7.  comparison sorts get used because they are more flexible than other kinds of sorting operations.\n",
    "\n",
    "##Analysis of search algorithms\n",
    "**search** takes a collection and a collection and a target and determines whether the target is i the collection, often returning the index o the target.\n",
    "\n",
    "**linear search** cycles through list.  `in`, `find` and `count` do this.\n",
    "\n",
    "**bisection search** - O(logn) on sorted list.  How you look a word up in a dictionary.\n",
    "\n",
    "###Exercise 3.3"
   ]
  },
  {
   "cell_type": "code",
   "execution_count": 59,
   "metadata": {
    "collapsed": false
   },
   "outputs": [
    {
     "name": "stdout",
     "output_type": "stream",
     "text": [
      "3\n"
     ]
    }
   ],
   "source": [
    "def bisection(li, target, low=0, high=None):\n",
    "    \"\"\"\n",
    "    li is a sorted list\n",
    "    target is the item to search for in li\n",
    "    \"\"\"\n",
    "    n = len(li)\n",
    "    if high is None: high=len(li)\n",
    "    guess = high / 2\n",
    "    \n",
    "    if target == li[guess]:\n",
    "        return guess\n",
    "    elif target > li[guess]:\n",
    "        return bisection(li, target, low=guess, high=high)\n",
    "    else:\n",
    "        return bisection(li, target, low=low, high=guess)\n",
    "    \n",
    "    \n",
    "\n",
    "import random, string\n",
    "li = [random.choice(string.lowercase) for i in xrange(50)]\n",
    "li.sort()\n",
    "# print li\n",
    "print bisection(li, 'b')\n"
   ]
  },
  {
   "cell_type": "markdown",
   "metadata": {
    "collapsed": true
   },
   "source": [
    "##Hashtables\n",
    "\n",
    "imagine that dictionaries don't exist in python...and you want to implement a data structure that maps keys to values.\n",
    "\n",
    "* `add(k,v)`: add a new item that maps from key k to value v.\n",
    "* `get(target)`: look up and return the value that corresponds to key `target`"
   ]
  },
  {
   "cell_type": "code",
   "execution_count": 42,
   "metadata": {
    "collapsed": false
   },
   "outputs": [],
   "source": [
    "class LinearMap(object):\n",
    "    \n",
    "    def __init__(self):\n",
    "        self.items = []\n",
    "    \n",
    "    def add(self, k, v):\n",
    "        \"\"\"constant time\"\"\"\n",
    "       \n",
    "        self.items.append((k, v))\n",
    "    \n",
    "    def get(self, k):\n",
    "        \"\"\"linear\"\"\"\n",
    "\n",
    "        for key, val in self.items:\n",
    "           \n",
    "            if key == k:\n",
    "                return val\n",
    "        raise KeyError\n",
    "    def __len__(self):\n",
    "        return len(self.items)"
   ]
  },
  {
   "cell_type": "markdown",
   "metadata": {},
   "source": [
    "One way to improve is to break key-value pairs into smaller lists.  Still linear `get`, but a step in the right direction."
   ]
  },
  {
   "cell_type": "code",
   "execution_count": 43,
   "metadata": {
    "collapsed": true
   },
   "outputs": [],
   "source": [
    "class BetterMap(object):\n",
    "    \n",
    "    def __init__(self, n=100):\n",
    "        self.maps = []\n",
    "        for i in range(n):\n",
    "            self.maps.append(LinearMap())\n",
    "        \n",
    "    def find_map(self, k):\n",
    "        index = hash(k) % len(self.maps)\n",
    "        return self.maps[index]\n",
    "    \n",
    "    def add(self, k, v):\n",
    "        m = self.find_map(k)\n",
    "        m.add(k, v)\n",
    "    \n",
    "    def get(self, k):\n",
    "        m = self.find_map(k)\n",
    "        return m.get(k)\n",
    "    "
   ]
  },
  {
   "cell_type": "markdown",
   "metadata": {},
   "source": [
    "The above class's `add` function hashes the key and then puts it into a bin.  the `get` function finds the bin and then does a linear search through the bin.  Since there are 100 evenly spaced bins and the hash function should be spreading things out pretty evenly, we can expect there to be n/100 items in each bucket, so the linear searches should be 100 times faster."
   ]
  },
  {
   "cell_type": "code",
   "execution_count": 44,
   "metadata": {
    "collapsed": false
   },
   "outputs": [
    {
     "data": {
      "text/plain": [
       "18"
      ]
     },
     "execution_count": 44,
     "metadata": {},
     "output_type": "execute_result"
    }
   ],
   "source": [
    "class HashMap(object):\n",
    "    \n",
    "    def __init__(self):\n",
    "        self.maps = BetterMap(2)\n",
    "        self.num = 0\n",
    "    \n",
    "    def get(self, k):\n",
    "        return self.maps.get(k)\n",
    "    \n",
    "    def add(self, k, v):\n",
    "        if self.num == len(self.maps.maps):\n",
    "            self.resize()\n",
    "        \n",
    "        self.maps.add(k, v)\n",
    "        self.num += 1\n",
    "    \n",
    "    def resize(self):\n",
    "        new_maps = BetterMap(self.num * 2)\n",
    "        \n",
    "        for m in self.maps.maps:\n",
    "            for k, v in m.items:\n",
    "                new_maps.add(k, v)\n",
    "        \n",
    "        self.maps = new_maps\n",
    "\n",
    "h = HashMap()\n",
    "h.add(5,3)\n",
    "h.add(6,2)\n",
    "h.add(3,18)\n",
    "h.get(3)"
   ]
  },
  {
   "cell_type": "markdown",
   "metadata": {},
   "source": [
    "Each add is approximately constant time.  Most of the time, an simply requires a hash operation and an indexing operation.  Every once in a while, but less and less frequently, you have to do a linear resizing operation, but the decreasing frequency with which that happens makes up for the cost of those linear operations, essentially.\n",
    "\n",
    "###Exercise 3.4\n",
    "1.  write a `__len__` function for BetterMap and use it in HashMap (to replace accessing attributes of BetterMap directly from HashMap).\n",
    "2.  use a generator to write BetterMap.iteritems and use it in resize"
   ]
  },
  {
   "cell_type": "code",
   "execution_count": 45,
   "metadata": {
    "collapsed": false
   },
   "outputs": [],
   "source": [
    "class BetterMap2(object):\n",
    "    \n",
    "    def __init__(self, n=100):\n",
    "        self.length = 0\n",
    "        self.maps = []\n",
    "        for i in range(n):\n",
    "            self.maps.append(LinearMap())\n",
    "        \n",
    "    def find_map(self, k):\n",
    "        index = hash(k) % len(self.maps)\n",
    "        return self.maps[index]\n",
    "    \n",
    "    def add(self, k, v):\n",
    "        m = self.find_map(k)\n",
    "        m.add(k, v)\n",
    "    \n",
    "    def get(self, k):\n",
    "        m = self.find_map(k)\n",
    "        return m.get(k)\n",
    "    \n",
    "    def __len__(self):\n",
    "        return len(self.maps)\n",
    "    \n",
    "    def iteritems(self):\n",
    "        for m in self.maps:\n",
    "            yield m\n",
    "    \n",
    "# b = BetterMap()\n",
    "# b.add(8,2)\n",
    "# b.add(9, 6)\n",
    "# print len(b)\n",
    "\n",
    "# iter = b.iteritems()\n",
    "# print iter.next()\n",
    "# print iter.next()"
   ]
  },
  {
   "cell_type": "code",
   "execution_count": 46,
   "metadata": {
    "collapsed": false
   },
   "outputs": [
    {
     "data": {
      "text/plain": [
       "19"
      ]
     },
     "execution_count": 46,
     "metadata": {},
     "output_type": "execute_result"
    }
   ],
   "source": [
    "class HashMap2(object):\n",
    "    \n",
    "    def __init__(self):\n",
    "        self.maps = BetterMap(2)\n",
    "        self.num = 0\n",
    "    \n",
    "    def get(self, k):\n",
    "        return self.maps.get(k)\n",
    "    \n",
    "    def add(self, k, v):\n",
    "        if self.num == len(self.maps):\n",
    "            self.resize()\n",
    "        \n",
    "        self.maps.add(k, v)\n",
    "        self.num += 1\n",
    "    \n",
    "    def resize(self):\n",
    "        new_maps = BetterMap(self.num * 2)\n",
    "        \n",
    "        for m in self.maps.maps:\n",
    "            for k, v in m.items:\n",
    "                \n",
    "                new_maps.add(k, v)\n",
    "        \n",
    "        self.maps = new_maps\n",
    "h = HashMap()\n",
    "h.add(5,3)\n",
    "h.add(9,19)\n",
    "h.add(6,2)\n",
    "h.add(4, 2)\n",
    "h.get(9)"
   ]
  },
  {
   "cell_type": "markdown",
   "metadata": {},
   "source": [
    "###Exercise 3.5 \n",
    "write TreeMap which implements a red-black tree to perform add and get in log time.\n",
    "\n",
    "* binary search tree - data structure where every new element added gets sent either right or left of root node at every node in tree starting at root node.\n",
    "\n",
    "* in red-black tree: \n",
    "    * nodes are red or black and have two chilren\n",
    "    * root node is black\n",
    "    * leaves (NIL) are black\n",
    "    * red nodes have two black children and black parent\n",
    "    * path from root node to NIL nodes contains same number of black nodes\n",
    "\n",
    "* insertion:\n",
    "    1.  add node as in binary search tree. replaces black leaf\n",
    "    2.  color node red and give two black leaves\n",
    "    3.  deal with case:\n",
    "        1. N is is root node\n",
    "        2. N's parent (P) is black\n",
    "        3. N's parent (P) and uncle (U) are red\n",
    "        4. N's parent (P) is red and Uncle (U) is black"
   ]
  },
  {
   "cell_type": "code",
   "execution_count": 47,
   "metadata": {
    "collapsed": false
   },
   "outputs": [],
   "source": [
    "class RedBlackTree(object):\n",
    "    \n",
    "    def __init__(self):\n",
    "        self._tree = None\n",
    "        \n",
    "    def Insert(self, n):\n",
    "        if self._tree == None:\n",
    "            self._tree = RedBlackTreeNode(n)\n",
    "            self._tree.SetColor(\"Black\")\n",
    "        else:\n",
    "            self._tree = self._tree.Insert(n)\n",
    "    \n",
    "class RedBlackTreeNode():\n",
    "    \n",
    "    def __init__(self, value):\n",
    "        self._left = None\n",
    "        self._right = None\n",
    "        self._value = value\n",
    "        self.SetColor(\"Red\")\n",
    "        self._parent = None\n",
    "    \n",
    "    def GetParent(self):\n",
    "        return self._parent\n",
    "    \n",
    "    def SetParent(self, parent):\n",
    "        self._parent = parent\n",
    "    \n",
    "    def GetColor(self):\n",
    "        return self._color\n",
    "    \n",
    "    def SetColor(self, color):\n",
    "        self._color =  color\n",
    "        \n",
    "    def GetLeft(self):\n",
    "        return self._left\n",
    "    \n",
    "    def SetLeft(self, left):\n",
    "        self._left = left\n",
    "        \n",
    "    def GetRight(self):\n",
    "        return self._right\n",
    "    \n",
    "    def SetRight(self, right):\n",
    "        self._right = right\n",
    "        \n",
    "    def GetGrandParent(self):\n",
    "        if self.GetParent() != None:\n",
    "            return self.GetParent().GetParent()\n",
    "        else:\n",
    "            return None\n",
    "    \n",
    "    def GetUncle(self):\n",
    "        grand = self.GetGrandParent()\n",
    "        if grand is not None:\n",
    "            if grand.GetLeft() == self.GetParent():\n",
    "                return grand.GetRight()\n",
    "            else:\n",
    "                return grand.GetLeft()\n",
    "        else:\n",
    "            return None\n",
    "        \n",
    "    def Rebalance(self):\n",
    "        # case 1: tree root\n",
    "        if self.GetParent() is None:\n",
    "            self.SetColor(\"Black\")\n",
    "            return self\n",
    "        \n",
    "        # case 2: parent of the target node is black\n",
    "        if self.GetParent().GetColor() == \"Black\":\n",
    "            return self.GetRoot()\n",
    "        \n",
    "        # note: we now know parent is red\n",
    "        # case 3: self, parent, and uncle are all red\n",
    "        if self.GetUncle() is not None and self.GetUncle().GetColor() == \"Red\":\n",
    "            self.GetUncle().SetColor(\"Black\")\n",
    "            self.GetParent().SetColor(\"Black\")\n",
    "            self.GetGrandParent().SetColor(\"Red\")\n",
    "            return self.GetGrandParent().Rebalance()\n",
    "        return self.PivotAndRebalance()\n",
    "    \n",
    "    def GetRoot(self):\n",
    "        if self.GetParent() is None:\n",
    "            return self\n",
    "        else:\n",
    "            return self.GetParent().GetRoot()\n",
    "        \n",
    "    def PivotAndRebalance(self):\n",
    "        #distinguish between parent being left child or right child\n",
    "        if self.GetGrandParent().GetLeft() == self.GetParent():\n",
    "            if self.GetParent().GetRight() == self:\n",
    "            # case 4: right child of left parent\n",
    "                return self.PivotLeft(False)\n",
    "            \n",
    "            else:\n",
    "            # case 5: right child of left parent\n",
    "                return self.GetParent().PivotRight(True)\n",
    "        \n",
    "        else:\n",
    "            if self.GetParent().GetLeft() == self:\n",
    "            # case 4: reverse\n",
    "                return self.PivotRight(False)\n",
    "            else:\n",
    "            # case 5: reverse\n",
    "                return self.GetParent().PivotLeft(True)\n",
    "    \n",
    "    def PivotRight(self, recolor):\n",
    "        left = self.GetLeft()\n",
    "        right = self.GetRight()\n",
    "        parent = self.GetParent()\n",
    "        grand = self.GetGrandParent()\n",
    "        \n",
    "        # move right to left of parent\n",
    "        parent.SetLeft(right)\n",
    "        if right is not None:\n",
    "            right.SetParent(parent)\n",
    "        \n",
    "        # move up, make parent my right child\n",
    "        self.SetParent(grand)\n",
    "        if grand is not None:\n",
    "            if grand.GetRight(parent) == parent:\n",
    "                grand.SetRight(self)\n",
    "            else:\n",
    "                grand.SetLeft(self)\n",
    "        self.SetRight(parent)\n",
    "        parent.SetParent(self)\n",
    "        if recolor is True:\n",
    "            parent.setColor(\"Red\")\n",
    "            self.SetColor(\"Black\")\n",
    "            return self.getRoot()\n",
    "        else:\n",
    "            return parent.Rebalance()\n",
    "    \n",
    "    def PivotLeft(self, recolor):\n",
    "        left = self.GetLeft()\n",
    "        right = self.GetRight()\n",
    "        parent = self.GetParent()\n",
    "        grand = self.GetGrandParent()\n",
    "        \n",
    "        # move left to be right of parent\n",
    "        parent.SetRight(left)\n",
    "        if left is not None:\n",
    "            left.SetParent(parent)\n",
    "        # move up, and make parent my right child\n",
    "        self.SetParent(grand)\n",
    "        if grand is not None:\n",
    "            if grand.GetRight() == parent:\n",
    "                grand.SetRight(self)\n",
    "            else:\n",
    "                grand.SetLeft(self)\n",
    "        self.SetLeft(parent)\n",
    "        parent.SetParent(self)\n",
    "        if recolor is True:\n",
    "            parent.SetColor(\"Red\")\n",
    "            self.SetColor(\"Black\")\n",
    "            return self.GetRoot()\n",
    "        else:\n",
    "            return parent.Rebalance()\n",
    "        \n",
    "    def Insert(self, value):\n",
    "        if self._value > value:\n",
    "            if self.GetLeft() is None:\n",
    "                self.SetLeft(RedBlackTreeNode(value))\n",
    "                self.GetLeft().SetParent(self)\n",
    "                return self.GetLeft().Rebalance()\n",
    "            else:\n",
    "                return self.GetLeft().Insert(value)\n",
    "        else:\n",
    "            if self.GetRight() is None:\n",
    "                self.SetRight(RedBlackTreeNode(value))\n",
    "                self.GetRight().SetParent(self)\n",
    "                return self.GetRight().Rebalance()\n",
    "            else:\n",
    "                return self.GetRight().Insert(value)\n",
    "b = RedBlackTree()\n",
    "for i in range(10):\n",
    "    b.Insert(i)"
   ]
  },
  {
   "cell_type": "code",
   "execution_count": 161,
   "metadata": {
    "collapsed": false
   },
   "outputs": [
    {
     "data": {
      "text/plain": [
       "'waffles'"
      ]
     },
     "execution_count": 161,
     "metadata": {},
     "output_type": "execute_result"
    }
   ],
   "source": [
    "class RedBlackTreeMap(object):\n",
    "    \n",
    "    def __init__(self):\n",
    "        self._tree = None\n",
    "        \n",
    "    def add(self, key, value):\n",
    "        \"\"\"\n",
    "        item is a key, value tuple\n",
    "        \"\"\"\n",
    "        item = key, value\n",
    "        if self._tree == None:\n",
    "            self._tree = RedBlackTreeNode(item)\n",
    "            self._tree.SetColor(\"Black\")\n",
    "        else:\n",
    "            self._tree = self._tree.Insert(item)\n",
    "    \n",
    "    def get(self, key):\n",
    "        return self._tree.Find(key)\n",
    "    \n",
    "    def Print(self):\n",
    "        if self._tree == None:\n",
    "            print \"Empty\"\n",
    "        else:\n",
    "            self._tree.Print(1)\n",
    "    \n",
    "class RedBlackTreeNode():\n",
    "    \n",
    "    def __init__(self, item):\n",
    "        key, value = item\n",
    "        self._left = None\n",
    "        self._right = None\n",
    "        self._key = key\n",
    "        self._value = value\n",
    "        self.SetColor(\"Red\")\n",
    "        self._parent = None\n",
    "    \n",
    "    def GetParent(self):\n",
    "        return self._parent\n",
    "    \n",
    "    def SetParent(self, parent):\n",
    "        self._parent = parent\n",
    "    \n",
    "    def GetColor(self):\n",
    "        return self._color\n",
    "    \n",
    "    def SetColor(self, color):\n",
    "        self._color =  color\n",
    "        \n",
    "    def GetLeft(self):\n",
    "        return self._left\n",
    "    \n",
    "    def SetLeft(self, left):\n",
    "        self._left = left\n",
    "        \n",
    "    def GetRight(self):\n",
    "        return self._right\n",
    "    \n",
    "    def SetRight(self, right):\n",
    "        self._right = right\n",
    "        \n",
    "    def GetGrandParent(self):\n",
    "        if self.GetParent() != None:\n",
    "            return self.GetParent().GetParent()\n",
    "        else:\n",
    "            return None\n",
    "    \n",
    "    def GetUncle(self):\n",
    "        grand = self.GetGrandParent()\n",
    "        if grand is not None:\n",
    "            if grand.GetLeft() == self.GetParent():\n",
    "                return grand.GetRight()\n",
    "            else:\n",
    "                return grand.GetLeft()\n",
    "        else:\n",
    "            return None\n",
    "        \n",
    "    def Rebalance(self):\n",
    "        # case 1: tree root\n",
    "        if self.GetParent() is None:\n",
    "            self.SetColor(\"Black\")\n",
    "            return self\n",
    "        \n",
    "        # case 2: parent of the target node is black\n",
    "        if self.GetParent().GetColor() == \"Black\":\n",
    "            return self.GetRoot()\n",
    "        \n",
    "        # note: we now know parent is red\n",
    "        # case 3: self, parent, and uncle are all red\n",
    "        if self.GetUncle() is not None and self.GetUncle().GetColor() == \"Red\":\n",
    "            self.GetUncle().SetColor(\"Black\")\n",
    "            self.GetParent().SetColor(\"Black\")\n",
    "            self.GetGrandParent().SetColor(\"Red\")\n",
    "            return self.GetGrandParent().Rebalance()\n",
    "        return self.PivotAndRebalance()\n",
    "    \n",
    "    def GetRoot(self):\n",
    "        if self.GetParent() is None:\n",
    "            return self\n",
    "        else:\n",
    "            return self.GetParent().GetRoot()\n",
    "        \n",
    "    def PivotAndRebalance(self):\n",
    "        #distinguish between parent being left child or right child\n",
    "        if self.GetGrandParent().GetLeft() == self.GetParent():\n",
    "            if self.GetParent().GetRight() == self:\n",
    "            # case 4: right child of left parent\n",
    "                return self.PivotLeft(False)\n",
    "            \n",
    "            else:\n",
    "            # case 5: right child of left parent\n",
    "                return self.GetParent().PivotRight(True)\n",
    "        \n",
    "        else:\n",
    "            if self.GetParent().GetLeft() == self:\n",
    "            # case 4: reverse\n",
    "                return self.PivotRight(False)\n",
    "            else:\n",
    "            # case 5: reverse\n",
    "                return self.GetParent().PivotLeft(True)\n",
    "    \n",
    "    def PivotRight(self, recolor):\n",
    "        left = self.GetLeft()\n",
    "        right = self.GetRight()\n",
    "        parent = self.GetParent()\n",
    "        grand = self.GetGrandParent()\n",
    "        \n",
    "        # move right to left of parent\n",
    "        parent.SetLeft(right)\n",
    "        if right is not None:\n",
    "            right.SetParent(parent)\n",
    "        \n",
    "        # move up, make parent my right child\n",
    "        self.SetParent(grand)\n",
    "        if grand is not None:\n",
    "            if grand.GetRight(parent) == parent:\n",
    "                grand.SetRight(self)\n",
    "            else:\n",
    "                grand.SetLeft(self)\n",
    "        self.SetRight(parent)\n",
    "        parent.SetParent(self)\n",
    "        if recolor is True:\n",
    "            parent.setColor(\"Red\")\n",
    "            self.SetColor(\"Black\")\n",
    "            return self.getRoot()\n",
    "        else:\n",
    "            return parent.Rebalance()\n",
    "    \n",
    "    def PivotLeft(self, recolor):\n",
    "        left = self.GetLeft()\n",
    "        right = self.GetRight()\n",
    "        parent = self.GetParent()\n",
    "        grand = self.GetGrandParent()\n",
    "        \n",
    "        # move left to be right of parent\n",
    "        parent.SetRight(left)\n",
    "        if left is not None:\n",
    "            left.SetParent(parent)\n",
    "        # move up, and make parent my right child\n",
    "        self.SetParent(grand)\n",
    "        if grand is not None:\n",
    "            if grand.GetRight() == parent:\n",
    "                grand.SetRight(self)\n",
    "            else:\n",
    "                grand.SetLeft(self)\n",
    "        self.SetLeft(parent)\n",
    "        parent.SetParent(self)\n",
    "        if recolor is True:\n",
    "            parent.SetColor(\"Red\")\n",
    "            self.SetColor(\"Black\")\n",
    "            return self.GetRoot()\n",
    "        else:\n",
    "            return parent.Rebalance()\n",
    "        \n",
    "    def Insert(self, item):\n",
    "        key, value = item\n",
    "        if self._key > key:\n",
    "            if self.GetLeft() is None:\n",
    "                self.SetLeft(RedBlackTreeNode(item))\n",
    "                self.GetLeft().SetParent(self)\n",
    "                return self.GetLeft().Rebalance()\n",
    "            else:\n",
    "                return self.GetLeft().Insert(item)\n",
    "        else:\n",
    "            if self.GetRight() is None:\n",
    "                self.SetRight(RedBlackTreeNode(item))\n",
    "                self.GetRight().SetParent(self)\n",
    "                return self.GetRight().Rebalance()\n",
    "            else:\n",
    "                return self.GetRight().Insert(item)\n",
    "        \n",
    "    def Print(self, indent):\n",
    "        for i in range(indent):\n",
    "            print \"   \",\n",
    "        print \"%s: %s (%s)\" % (self._key, self._value, self.GetColor())\n",
    "        if self.GetLeft() is None:\n",
    "            for i in range(indent + 1):\n",
    "                print \"   \",\n",
    "            print \"None(Black)\"\n",
    "        else:\n",
    "            self.GetLeft().Print(indent + 1)\n",
    "        if self.GetRight() is None:\n",
    "            for i in range(indent +1):\n",
    "                print \"  \",\n",
    "            print \"None(Black)\"\n",
    "        else:\n",
    "            self.GetRight().Print(indent + 1)\n",
    "    \n",
    "    def Find(self, key):\n",
    "        if self._key == key:\n",
    "            return self._value\n",
    "        elif self._key > key:\n",
    "            if self.GetLeft() is None:\n",
    "                raise KeyError\n",
    "            return self.GetLeft().Find(key)\n",
    "        else:\n",
    "            if self.GetRight() is None:\n",
    "                raise KeyError\n",
    "            return self.GetRight().Find(key)\n",
    "        \n",
    "        \n",
    "b = RedBlackTreeMap()\n",
    "for i in range(10):\n",
    "    b.add(i,i)\n",
    "b.add([4,3],\"waffles\")\n",
    "b.get([4,3])"
   ]
  },
  {
   "cell_type": "markdown",
   "metadata": {},
   "source": [
    "My solution is a slightly modified version of the code in [this blog post.](http://scienceblogs.com/goodmath/2008/05/28/the-basic-balanced-search-tree/)"
   ]
  },
  {
   "cell_type": "markdown",
   "metadata": {},
   "source": [
    "Timing Things\n",
    "\n",
    "if a process is quadratic, then we expect the time to relate to n like so:\n",
    "$$\n",
    "\\log{t} \\sim \\log{a} + 2\\log{n}\n",
    "$$\n",
    "so if we plot t versus n on a log-log scale, we expect a straight line with slope 2.  If it's linear, we expect a slope of 1."
   ]
  },
  {
   "cell_type": "code",
   "execution_count": 65,
   "metadata": {
    "collapsed": false
   },
   "outputs": [
    {
     "name": "stdout",
     "output_type": "stream",
     "text": [
      "0.0\n"
     ]
    }
   ],
   "source": [
    "import os\n",
    "\n",
    "def etime():\n",
    "    \"\"\"See how much user and system time this process has used\n",
    "    so far and return the sum\"\"\"\n",
    "    user, sys, chuser, chsys, real = os.times()\n",
    "    return user+sys\n",
    "\n",
    "start = etime()\n",
    "\n",
    "# put the code you want to measure here\n",
    "\n",
    "end = etime()\n",
    "elapsed = end - start\n",
    "print elapsed"
   ]
  },
  {
   "cell_type": "code",
   "execution_count": 50,
   "metadata": {
    "collapsed": false
   },
   "outputs": [
    {
     "name": "stdout",
     "output_type": "stream",
     "text": [
      "hello\n",
      "hello\n",
      "hello\n",
      "1 loops, best of 3: 37 µs per loop\n",
      "best: 3.69548797607e-05\n"
     ]
    }
   ],
   "source": [
    "result = %timeit -n1 -o print 'hello'\n",
    "print 'best:',result.best"
   ]
  },
  {
   "cell_type": "code",
   "execution_count": 157,
   "metadata": {
    "collapsed": false
   },
   "outputs": [],
   "source": [
    "import matplotlib.pyplot as plt\n",
    "import numpy as np\n",
    "%matplotlib inline\n",
    "\n",
    "def time_map_add(map_type, low=1000, high=100000, n=50):\n",
    "    to_time = map_type()\n",
    "    \n",
    "    # set up map\n",
    "    for i in xrange(low):\n",
    "        to_time.add(i, i)\n",
    "    \n",
    "    # capture results:\n",
    "    times = []\n",
    "    for i in xrange(low, high):\n",
    "        start = etime()\n",
    "        to_time.add(i, i)\n",
    "        \n",
    "        end = etime()\n",
    "        result = end - start\n",
    "        times.append(result)\n",
    "    \n",
    "    return range(low, high), times\n",
    "\n",
    "def time_map_get(map_type, low=3, high=3, n=50):\n",
    "    to_time = map_type()\n",
    "    ns = np.logspace(low, high, n)\n",
    "    \n",
    "    times = []\n",
    "    index = 0\n",
    "    \n",
    "    for n in ns:\n",
    "        n = int(n)\n",
    "        while index < n: \n",
    "            to_time.add(index, index)\n",
    "            index += 1\n",
    "        \n",
    "        start = etime()\n",
    "        to_time.get(n-1)\n",
    "        end = etime()\n",
    "        result = end - start\n",
    "        \n",
    "        times.append(result)\n",
    "    \n",
    "    return ns, times\n",
    "    "
   ]
  },
  {
   "cell_type": "code",
   "execution_count": 153,
   "metadata": {
    "collapsed": false
   },
   "outputs": [],
   "source": [
    "def plot_map(map_type, map_func, ax, title='', scale='log'):\n",
    "    ns, ts = map_func(map_type)\n",
    "    if scale=='log':\n",
    "        ax.set_xscale('log')\n",
    "        ax.set_yscale('log')\n",
    "    ax.set_xlabel('n')\n",
    "    ax.set_ylabel('run time (s)')\n",
    "    ax.set_title(title)\n",
    "    ax.plot(ns, ts)\n"
   ]
  },
  {
   "cell_type": "code",
   "execution_count": 154,
   "metadata": {
    "collapsed": false
   },
   "outputs": [
    {
     "data": {
      "image/png": "[encoded data removed]",
      "text/plain": [
       "<matplotlib.figure.Figure at 0x13d71a790>"
      ]
     },
     "metadata": {},
     "output_type": "display_data"
    }
   ],
   "source": [
    "fig, ax = plt.subplots(nrows=2, ncols=1)\n",
    "plot_map(LinearMap, time_map_get, ax[0], \n",
    "         title=\"Runtime for get function in LinearMap\")\n",
    "plot_map(LinearMap, time_map_add, ax[1],\n",
    "         title=\"Runtime for add function in LinearMap\")\n",
    "fig.tight_layout()\n",
    "plt.show()"
   ]
  },
  {
   "cell_type": "code",
   "execution_count": 155,
   "metadata": {
    "collapsed": false
   },
   "outputs": [
    {
     "data": {
      "image/png": "[encoded data removed]",
      "text/plain": [
       "<matplotlib.figure.Figure at 0x105571bd0>"
      ]
     },
     "metadata": {},
     "output_type": "display_data"
    }
   ],
   "source": [
    "fig, ax = plt.subplots(nrows=2, ncols=1)\n",
    "plot_map(BetterMap, time_map_get, ax[0], \n",
    "         title=\"Runtime for get function in BetterMap\")\n",
    "plot_map(BetterMap, time_map_add, ax[1],\n",
    "         title=\"Runtime for add function in BetterMap\")\n",
    "fig.tight_layout()\n",
    "plt.show()"
   ]
  },
  {
   "cell_type": "code",
   "execution_count": 158,
   "metadata": {
    "collapsed": false
   },
   "outputs": [
    {
     "data": {
      "image/png": "[encoded data removed]",
      "text/plain": [
       "<matplotlib.figure.Figure at 0x2700fdcd0>"
      ]
     },
     "metadata": {},
     "output_type": "display_data"
    }
   ],
   "source": [
    "fig, ax = plt.subplots(nrows=2, ncols=1)\n",
    "plot_map(HashMap, time_map_get, ax[0], \n",
    "         title=\"Runtime for get function in HashMap\")\n",
    "plot_map(HashMap, time_map_add, ax[1],\n",
    "         title=\"Runtime for add function in HashMap\")\n",
    "fig.tight_layout()\n",
    "plt.show()"
   ]
  },
  {
   "cell_type": "code",
   "execution_count": 162,
   "metadata": {
    "collapsed": false
   },
   "outputs": [
    {
     "ename": "ValueError",
     "evalue": "Data has no positive values, and therefore can not be log-scaled.",
     "output_type": "error",
     "traceback": [
      "\u001b[0;31m---------------------------------------------------------------------------\u001b[0m",
      "\u001b[0;31mValueError\u001b[0m                                Traceback (most recent call last)",
      "\u001b[0;32m<ipython-input-162-b53b2fbc33fc>\u001b[0m in \u001b[0;36m<module>\u001b[0;34m()\u001b[0m\n\u001b[1;32m      1\u001b[0m \u001b[0mfig\u001b[0m\u001b[0;34m,\u001b[0m \u001b[0max\u001b[0m \u001b[0;34m=\u001b[0m \u001b[0mplt\u001b[0m\u001b[0;34m.\u001b[0m\u001b[0msubplots\u001b[0m\u001b[0;34m(\u001b[0m\u001b[0mnrows\u001b[0m\u001b[0;34m=\u001b[0m\u001b[0;36m2\u001b[0m\u001b[0;34m,\u001b[0m \u001b[0mncols\u001b[0m\u001b[0;34m=\u001b[0m\u001b[0;36m1\u001b[0m\u001b[0;34m)\u001b[0m\u001b[0;34m\u001b[0m\u001b[0m\n\u001b[1;32m      2\u001b[0m plot_map(RedBlackTreeMap, time_map_get, ax[0], \n\u001b[0;32m----> 3\u001b[0;31m          title=\"Runtime for get function in RedBlackTreeMap\")\n\u001b[0m\u001b[1;32m      4\u001b[0m plot_map(RedBlackTreeMap, time_map_add, ax[1],\n\u001b[1;32m      5\u001b[0m          title=\"Runtime for add function in RedBlackTreeMap\")\n",
      "\u001b[0;32m<ipython-input-153-dc3bd751caed>\u001b[0m in \u001b[0;36mplot_map\u001b[0;34m(map_type, map_func, ax, title, scale)\u001b[0m\n\u001b[1;32m      7\u001b[0m     \u001b[0max\u001b[0m\u001b[0;34m.\u001b[0m\u001b[0mset_ylabel\u001b[0m\u001b[0;34m(\u001b[0m\u001b[0;34m'run time (s)'\u001b[0m\u001b[0;34m)\u001b[0m\u001b[0;34m\u001b[0m\u001b[0m\n\u001b[1;32m      8\u001b[0m     \u001b[0max\u001b[0m\u001b[0;34m.\u001b[0m\u001b[0mset_title\u001b[0m\u001b[0;34m(\u001b[0m\u001b[0mtitle\u001b[0m\u001b[0;34m)\u001b[0m\u001b[0;34m\u001b[0m\u001b[0m\n\u001b[0;32m----> 9\u001b[0;31m     \u001b[0max\u001b[0m\u001b[0;34m.\u001b[0m\u001b[0mplot\u001b[0m\u001b[0;34m(\u001b[0m\u001b[0mns\u001b[0m\u001b[0;34m,\u001b[0m \u001b[0mts\u001b[0m\u001b[0;34m)\u001b[0m\u001b[0;34m\u001b[0m\u001b[0m\n\u001b[0m",
      "\u001b[0;32m/Users/davidgoldberg/anaconda/lib/python2.7/site-packages/matplotlib/axes/_axes.pyc\u001b[0m in \u001b[0;36mplot\u001b[0;34m(self, *args, **kwargs)\u001b[0m\n\u001b[1;32m   1375\u001b[0m             \u001b[0mlines\u001b[0m\u001b[0;34m.\u001b[0m\u001b[0mappend\u001b[0m\u001b[0;34m(\u001b[0m\u001b[0mline\u001b[0m\u001b[0;34m)\u001b[0m\u001b[0;34m\u001b[0m\u001b[0m\n\u001b[1;32m   1376\u001b[0m \u001b[0;34m\u001b[0m\u001b[0m\n\u001b[0;32m-> 1377\u001b[0;31m         \u001b[0mself\u001b[0m\u001b[0;34m.\u001b[0m\u001b[0mautoscale_view\u001b[0m\u001b[0;34m(\u001b[0m\u001b[0mscalex\u001b[0m\u001b[0;34m=\u001b[0m\u001b[0mscalex\u001b[0m\u001b[0;34m,\u001b[0m \u001b[0mscaley\u001b[0m\u001b[0;34m=\u001b[0m\u001b[0mscaley\u001b[0m\u001b[0;34m)\u001b[0m\u001b[0;34m\u001b[0m\u001b[0m\n\u001b[0m\u001b[1;32m   1378\u001b[0m         \u001b[0;32mreturn\u001b[0m \u001b[0mlines\u001b[0m\u001b[0;34m\u001b[0m\u001b[0m\n\u001b[1;32m   1379\u001b[0m \u001b[0;34m\u001b[0m\u001b[0m\n",
      "\u001b[0;32m/Users/davidgoldberg/anaconda/lib/python2.7/site-packages/matplotlib/axes/_base.pyc\u001b[0m in \u001b[0;36mautoscale_view\u001b[0;34m(self, tight, scalex, scaley)\u001b[0m\n\u001b[1;32m   1982\u001b[0m                 \u001b[0my1\u001b[0m \u001b[0;34m+=\u001b[0m \u001b[0mdelta\u001b[0m\u001b[0;34m\u001b[0m\u001b[0m\n\u001b[1;32m   1983\u001b[0m             \u001b[0;32mif\u001b[0m \u001b[0;32mnot\u001b[0m \u001b[0m_tight\u001b[0m\u001b[0;34m:\u001b[0m\u001b[0;34m\u001b[0m\u001b[0m\n\u001b[0;32m-> 1984\u001b[0;31m                 \u001b[0my0\u001b[0m\u001b[0;34m,\u001b[0m \u001b[0my1\u001b[0m \u001b[0;34m=\u001b[0m \u001b[0mylocator\u001b[0m\u001b[0;34m.\u001b[0m\u001b[0mview_limits\u001b[0m\u001b[0;34m(\u001b[0m\u001b[0my0\u001b[0m\u001b[0;34m,\u001b[0m \u001b[0my1\u001b[0m\u001b[0;34m)\u001b[0m\u001b[0;34m\u001b[0m\u001b[0m\n\u001b[0m\u001b[1;32m   1985\u001b[0m             \u001b[0mself\u001b[0m\u001b[0;34m.\u001b[0m\u001b[0mset_ybound\u001b[0m\u001b[0;34m(\u001b[0m\u001b[0my0\u001b[0m\u001b[0;34m,\u001b[0m \u001b[0my1\u001b[0m\u001b[0;34m)\u001b[0m\u001b[0;34m\u001b[0m\u001b[0m\n\u001b[1;32m   1986\u001b[0m \u001b[0;34m\u001b[0m\u001b[0m\n",
      "\u001b[0;32m/Users/davidgoldberg/anaconda/lib/python2.7/site-packages/matplotlib/ticker.pyc\u001b[0m in \u001b[0;36mview_limits\u001b[0;34m(self, vmin, vmax)\u001b[0m\n\u001b[1;32m   1523\u001b[0m         \u001b[0;32mif\u001b[0m \u001b[0mminpos\u001b[0m \u001b[0;34m<=\u001b[0m \u001b[0;36m0\u001b[0m \u001b[0;32mor\u001b[0m \u001b[0;32mnot\u001b[0m \u001b[0mnp\u001b[0m\u001b[0;34m.\u001b[0m\u001b[0misfinite\u001b[0m\u001b[0;34m(\u001b[0m\u001b[0mminpos\u001b[0m\u001b[0;34m)\u001b[0m\u001b[0;34m:\u001b[0m\u001b[0;34m\u001b[0m\u001b[0m\n\u001b[1;32m   1524\u001b[0m             raise ValueError(\n\u001b[0;32m-> 1525\u001b[0;31m                 \u001b[0;34m\"Data has no positive values, and therefore can not be \"\u001b[0m\u001b[0;34m\u001b[0m\u001b[0m\n\u001b[0m\u001b[1;32m   1526\u001b[0m                 \"log-scaled.\")\n\u001b[1;32m   1527\u001b[0m \u001b[0;34m\u001b[0m\u001b[0m\n",
      "\u001b[0;31mValueError\u001b[0m: Data has no positive values, and therefore can not be log-scaled."
     ]
    },
    {
     "data": {
      "image/png": "[encoded data removed]",
      "text/plain": [
       "<matplotlib.figure.Figure at 0x10576ba90>"
      ]
     },
     "metadata": {},
     "output_type": "display_data"
    }
   ],
   "source": [
    "fig, ax = plt.subplots(nrows=2, ncols=1)\n",
    "plot_map(RedBlackTreeMap, time_map_get, ax[0], \n",
    "         title=\"Runtime for get function in RedBlackTreeMap\")\n",
    "plot_map(RedBlackTreeMap, time_map_add, ax[1],\n",
    "         title=\"Runtime for add function in RedBlackTreeMap\")\n",
    "fig.tight_layout()\n",
    "plt.show()"
   ]
  },
  {
   "cell_type": "markdown",
   "metadata": {},
   "source": [
    "##List Comprehensions\n",
    "traverse a list while building a new one"
   ]
  },
  {
   "cell_type": "code",
   "execution_count": null,
   "metadata": {
    "collapsed": true
   },
   "outputs": [],
   "source": []
  }
 ],
 "metadata": {
  "kernelspec": {
   "display_name": "Python 2",
   "language": "python",
   "name": "python2"
  },
  "language_info": {
   "codemirror_mode": {
    "name": "ipython",
    "version": 2
   },
   "file_extension": ".py",
   "mimetype": "text/x-python",
   "name": "python",
   "nbconvert_exporter": "python",
   "pygments_lexer": "ipython2",
   "version": "2.7.10"
  }
 },
 "nbformat": 4,
 "nbformat_minor": 0
}
