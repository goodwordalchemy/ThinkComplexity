{
 "cells": [
  {
   "cell_type": "markdown",
   "metadata": {},
   "source": [
    "**data structure** - a collection of data elements organized in a way that supports particular operations.\n",
    "\n",
    "**algorithm** - mechanical process for performing a computation\n",
    "\n",
    "**complex systems** - those with many interacting components. rule-based, rather than law-based as in classical systems.\n",
    "\n",
    "* classical modeling --> complex modeling\n",
    "* equation based --> simulation based\n",
    "* analysis --> computation\n",
    "\n",
    "* continuous --> discrete \n",
    "* one, two --> many\n",
    "* abstract --> detailed\n",
    "* deterministic --> stochastic\n",
    "\n",
    "**different purposes and interpretations**\n",
    "* Predictive --> Explanatory\n",
    "* reductivism --> wholism\n",
    "* realism --> Instrumentalism\n",
    "\n",
    "**also a kind of engineering**\n"
   ]
  }
 ],
 "metadata": {
  "kernelspec": {
   "display_name": "Python 2",
   "language": "python",
   "name": "python2"
  },
  "language_info": {
   "codemirror_mode": {
    "name": "ipython",
    "version": 2
   },
   "file_extension": ".py",
   "mimetype": "text/x-python",
   "name": "python",
   "nbconvert_exporter": "python",
   "pygments_lexer": "ipython2",
   "version": "2.7.10"
  }
 },
 "nbformat": 4,
 "nbformat_minor": 0
}
