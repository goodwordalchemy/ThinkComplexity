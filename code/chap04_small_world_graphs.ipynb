{
 "cells": [
  {
   "cell_type": "markdown",
   "metadata": {},
   "source": [
    "Order of growth for BFS is O(|V| + |E|) where |V| is the number of vertices and |E| is the number of eges.  This means the order of BFS grows in proportion to whichever is bigger.\n",
    "\n",
    "This is due to there being four operations in a BFS:\n",
    "* adding a vertex to the queue: cost is in O(|V|)\n",
    "* removing a vertex from the queue: cost is in O(|V|)\n",
    "* marking a vertex as visited: cost is in O(|V|)\n",
    "* checking whether a vertex is marked: cost is in O(|E|)\n",
    "\n",
    "In a regular graph, the number of edges is in O(|V|).  In a complete graph, the number of edges is in $O(|V|^2)$\n",
    "\n",
    "##FIFO implementation\n",
    "\n",
    "a FIFO provides the folloing operations:\n",
    "* append - add a new item to the end of the queue\n",
    "* pop - remove and return the item at the front of the queue\n",
    "\n",
    "##Exercise 4.1"
   ]
  },
  {
   "cell_type": "code",
   "execution_count": 33,
   "metadata": {
    "collapsed": true
   },
   "outputs": [],
   "source": [
    "import GraphWorld as GW\n",
    "def show_graph(g, layout='Circle'):\n",
    "    if layout==\"Circle\":\n",
    "        l = GW.CircleLayout(g)\n",
    "    gw = GW.GraphWorld()\n",
    "    gw.show_graph(g, l)\n",
    "    gw.mainloop()\n",
    "def ShowGraph(g, layout='Circle'):\n",
    "    if layout==\"Circle\":\n",
    "        l = GW.CircleLayout(g)\n",
    "    gw = GW.GraphWorld()\n",
    "    gw.show_graph(g, l)\n",
    "    gw.mainloop()"
   ]
  },
  {
   "cell_type": "code",
   "execution_count": 2,
   "metadata": {
    "collapsed": true
   },
   "outputs": [],
   "source": [
    "from Graph import *\n",
    "\n",
    "class LinkedList(Graph):\n",
    "    \n",
    "    def __init__(self):\n",
    "        Graph.__init__(self)\n",
    "        start = Vertex('start')\n",
    "        self.start = start\n",
    "        self.add_vertex(self.start)\n",
    "        \n",
    "        end = Vertex('end')\n",
    "        self.end = end\n",
    "        self.add_vertex(self.end)\n",
    "        \n",
    "        self.add_edge(Edge(start, end))\n",
    "        \n",
    "    def append(self, value):\n",
    "        \n",
    "        #remove last edge\n",
    "        end = self.end\n",
    "        last = self.out_vertices(end)[0]\n",
    "        last_edge = self.get_edge(last, end)\n",
    "        self.remove_edge(last_edge)\n",
    "        \n",
    "        #add edges from new value to last and end\n",
    "        v = Vertex(value)\n",
    "        self.add_vertex(v)\n",
    "        self.add_edge(Edge(v, last))\n",
    "        self.add_edge(Edge(v, end))\n",
    "        \n",
    "    def pop(self):\n",
    "        \n",
    "        #remove first edge\n",
    "        start = self.start\n",
    "        first = self.out_vertices(start)[0]\n",
    "        first_edge = self.get_edge(first, start)\n",
    "        self.remove_edge(first_edge)\n",
    "        \n",
    "        #remove second edge\n",
    "        second = self.out_vertices(first)[0]\n",
    "        second_edge = self.get_edge(first, second)\n",
    "        self.remove_edge(second_edge)\n",
    "        \n",
    "        #connect start to second\n",
    "        self.add_edge(Edge(start, second))\n",
    "        \n",
    "        return first     "
   ]
  },
  {
   "cell_type": "code",
   "execution_count": 3,
   "metadata": {
    "collapsed": false
   },
   "outputs": [],
   "source": [
    "LL = LinkedList()\n",
    "for i in xrange(10):\n",
    "    LL.append(i)\n",
    "show_graph(LL)"
   ]
  },
  {
   "cell_type": "code",
   "execution_count": 4,
   "metadata": {
    "collapsed": false
   },
   "outputs": [
    {
     "name": "stdout",
     "output_type": "stream",
     "text": [
      "Vertex(4)\n"
     ]
    }
   ],
   "source": [
    "for i in xrange(5):\n",
    "    pop = LL.pop()\n",
    "show_graph(LL)\n",
    "print pop"
   ]
  },
  {
   "cell_type": "code",
   "execution_count": 5,
   "metadata": {
    "collapsed": false
   },
   "outputs": [
    {
     "name": "stdout",
     "output_type": "stream",
     "text": [
      "booth\n",
      "rawn\n",
      "booth\n",
      "rawn\n"
     ]
    }
   ],
   "source": [
    "class CircularBuffer(Graph):\n",
    "    \n",
    "    def __init__(self, n=10):\n",
    "        Graph.__init__(self)\n",
    "        for i in xrange(n):\n",
    "            v = Vertex(i)\n",
    "            self.add_vertex(v)\n",
    "            \n",
    "            if i == 0:\n",
    "                self.first_in = v\n",
    "                self.current = v\n",
    "            else:\n",
    "                previous.next = v\n",
    "                self.add_edge((previous, v))\n",
    "            previous = v\n",
    "        v.next = self.first_in\n",
    "        self.add_edge((previous, self.first_in))\n",
    "    \n",
    "    def append(self, value):\n",
    "        self.current.value = value\n",
    "        self.current = self.current.next\n",
    "        \n",
    "    def pop(self):\n",
    "        to_return = self.first_in.value\n",
    "        del self.first_in.value\n",
    "        self.first_in = self.first_in.next\n",
    "        return to_return\n",
    "\n",
    "CB = CircularBuffer()\n",
    "CB.append('booth')\n",
    "CB.append('rawn')\n",
    "print CB.first_in.value\n",
    "print CB.first_in.next.value\n",
    "print CB.pop()\n",
    "print CB.pop()\n",
    "show_graph(CB)"
   ]
  },
  {
   "cell_type": "code",
   "execution_count": 6,
   "metadata": {
    "collapsed": true
   },
   "outputs": [],
   "source": [
    "class DictFifo(object):\n",
    "    \n",
    "    def __init__(self):\n",
    "        self.nextin = 0\n",
    "        self.nextout = 0\n",
    "        self.data ={}\n",
    "    \n",
    "    def append(self, value):\n",
    "        self.data[self.nextin] = value\n",
    "        self.nextin += 1\n",
    "        \n",
    "    def pop(self, n=-1):\n",
    "        value = self.data.pop(self.nextout)\n",
    "        self.nextout += 1\n",
    "        return value"
   ]
  },
  {
   "cell_type": "markdown",
   "metadata": {},
   "source": [
    "##Exercise 4.2"
   ]
  },
  {
   "cell_type": "code",
   "execution_count": 7,
   "metadata": {
    "collapsed": false
   },
   "outputs": [
    {
     "name": "stdout",
     "output_type": "stream",
     "text": [
      "0.0\n"
     ]
    }
   ],
   "source": [
    "import os\n",
    "\n",
    "def etime():\n",
    "    \"\"\"See how much user and system time this process has used\n",
    "    so far and return the sum\"\"\"\n",
    "    user, sys, chuser, chsys, real = os.times()\n",
    "    return user+sys\n",
    "\n",
    "\n",
    "start = etime()\n",
    "\n",
    "# put the code you want to measure here\n",
    "\n",
    "end = etime()\n",
    "elapsed = end - start\n",
    "print elapsed\n"
   ]
  },
  {
   "cell_type": "code",
   "execution_count": 17,
   "metadata": {
    "collapsed": false
   },
   "outputs": [],
   "source": [
    "def bfs(top_node, visit):\n",
    "    \"\"\"Breadth-first search on a graph, starting at top_node\"\"\"\n",
    "    visited = set()\n",
    "    queue = [top_node]\n",
    "    while len(queue):\n",
    "        curr_node = queue.pop(0) # Dequeue\n",
    "        visit(curr_node)\n",
    "        visited.add(curr_node)\n",
    "    \n",
    "        # Enqueue non-visited and non-enqueued children\n",
    "        queue.extend(c for c in curr_node.children\n",
    "                     if c not in visited and c not in queue)\n",
    "\n",
    "def count_to_n(arg, n=10):\n",
    "    c = 0\n",
    "    for i in xrange(n):\n",
    "        c += 1\n",
    "\n",
    "def test_graph(n, k=None, func=bfs, debug=True):\n",
    "    if k is None:\n",
    "        k = n-1\n",
    "    graph = Graph()\n",
    "    for i in range(n):\n",
    "        v = Vertex(i)\n",
    "        graph.add_vertex(v)\n",
    "    graph.add_regular_edges(k)\n",
    "\n",
    "    for v in graph.vertices():\n",
    "        v.children = graph.out_vertices(v)\n",
    "        try:\n",
    "            v.visited = False\n",
    "        except AttributError:\n",
    "            pass\n",
    "        \n",
    "    start = etime()\n",
    "    func(v, count_to_n)\n",
    "    end = etime()\n",
    "    elapsed = end - start\n",
    "    if debug: print \"test_graph: start, end, elapsed\",start, end, elapsed\n",
    "    return elapsed\n",
    "    \n",
    "import numpy as np\n",
    "import matplotlib.pyplot as plt\n",
    "%matplotlib inline"
   ]
  },
  {
   "cell_type": "code",
   "execution_count": 18,
   "metadata": {
    "collapsed": false
   },
   "outputs": [
    {
     "name": "stdout",
     "output_type": "stream",
     "text": [
      "test_graph: start, end, elapsed 34.2 34.21 0.01\n",
      "test_graph: start, end, elapsed 34.24 34.26 0.02\n",
      "test_graph: start, end, elapsed 34.3 34.33 0.03\n",
      "test_graph: start, end, elapsed 34.41 34.47 0.06\n",
      "test_graph: start, end, elapsed 34.58 34.73 0.15\n",
      "test_graph: start, end, elapsed 35.35 35.65 0.3\n",
      "test_graph: start, end, elapsed 35.97 36.61 0.64\n",
      "test_graph: start, end, elapsed 37.57 38.95 1.38\n",
      "test_graph: start, end, elapsed 40.7 43.68 2.98\n",
      "test_graph: start, end, elapsed 46.83 53.24 6.41\n"
     ]
    }
   ],
   "source": [
    "times = []\n",
    "ns = np.logspace(2,3,10)\n",
    "for n in ns:\n",
    "    n = int(n)\n",
    "    times.append(test_graph(n))   "
   ]
  },
  {
   "cell_type": "code",
   "execution_count": 119,
   "metadata": {
    "collapsed": false
   },
   "outputs": [
    {
     "ename": "NameError",
     "evalue": "name 'ns' is not defined",
     "output_type": "error",
     "traceback": [
      "\u001b[0;31m---------------------------------------------------------------------------\u001b[0m",
      "\u001b[0;31mNameError\u001b[0m                                 Traceback (most recent call last)",
      "\u001b[0;32m<ipython-input-119-bd354c3c7890>\u001b[0m in \u001b[0;36m<module>\u001b[0;34m()\u001b[0m\n\u001b[1;32m     37\u001b[0m \u001b[0;34m\u001b[0m\u001b[0m\n\u001b[1;32m     38\u001b[0m \u001b[0;34m\u001b[0m\u001b[0m\n\u001b[0;32m---> 39\u001b[0;31m \u001b[0mfit_complexity\u001b[0m\u001b[0;34m(\u001b[0m\u001b[0mns\u001b[0m\u001b[0;34m,\u001b[0m \u001b[0mtimes\u001b[0m\u001b[0;34m,\u001b[0m \u001b[0mtitle\u001b[0m\u001b[0;34m=\u001b[0m\u001b[0;34m'plotting run times for flawed breadth first search'\u001b[0m\u001b[0;34m)\u001b[0m\u001b[0;34m\u001b[0m\u001b[0m\n\u001b[0m\u001b[1;32m     40\u001b[0m \u001b[0mplt\u001b[0m\u001b[0;34m.\u001b[0m\u001b[0mshow\u001b[0m\u001b[0;34m(\u001b[0m\u001b[0;34m)\u001b[0m\u001b[0;34m\u001b[0m\u001b[0m\n",
      "\u001b[0;31mNameError\u001b[0m: name 'ns' is not defined"
     ]
    }
   ],
   "source": [
    "def fit(ns, ts, exp=1.0, index=-1):\n",
    "    \"\"\"Fits a curve with the given exponent.\n",
    "\n",
    "    Use the given index as a reference point, and scale all other\n",
    "    points accordingly.\n",
    "    \"\"\"\n",
    "    nref = ns[index]\n",
    "    tref = ts[index]\n",
    "\n",
    "    tfit = []\n",
    "    for n in ns:\n",
    "        ratio = float(n) / nref\n",
    "        t = ratio**exp * tref\n",
    "        tfit.append(t)\n",
    "\n",
    "    return tfit\n",
    "\n",
    "def fit_complexity(ns, times, title='', ax=None, log=True):\n",
    "    t_fit1 = fit(ns, times, exp=1.0)\n",
    "    t_fit2 = fit(ns, times, exp=2.0)\n",
    "    t_fit3 = fit(ns, times, exp=3.0)\n",
    "\n",
    "    if ax is None:\n",
    "        fig, ax = plt.subplots()\n",
    "    ax.scatter(ns, times, label=\"raw data\")\n",
    "    ax.plot(ns, t_fit1, label='exp=1.0')\n",
    "    ax.plot(ns, t_fit2, label='exp=2.0')\n",
    "    ax.plot(ns, t_fit3, label='exp=3.0')\n",
    "    if log:\n",
    "        ax.set_xscale('log')\n",
    "        ax.set_yscale('log')\n",
    "    ax.set_xlabel('n nodes')\n",
    "    ax.set_ylabel('run time (s)')\n",
    "    ax.set_title(title)\n",
    "    plt.legend(loc='best')\n",
    "#     plt.show()\n",
    "    \n",
    "\n",
    "fit_complexity(ns, times, title='plotting run times for flawed breadth first search')\n",
    "plt.show()"
   ]
  },
  {
   "cell_type": "markdown",
   "metadata": {},
   "source": [
    "This graph shows that the complexity of the current implementation of BFS grows cubically.  I think that the issue is that, in the `queue.extend` statement, we are looping though node.children, visited, and queue every time through the while loop.  \n",
    "\n",
    "*  instead of keeping a set of visited nodes to loop through, I think it's better to mark each node along the way."
   ]
  },
  {
   "cell_type": "code",
   "execution_count": 62,
   "metadata": {
    "collapsed": false
   },
   "outputs": [],
   "source": [
    "from collections import deque\n",
    "def bfs2(top_node, visit, debug=False):\n",
    "    \"\"\"Breadth-first search on a graph, starting at top_node\"\"\"\n",
    "    \n",
    "    queue = [top_node]\n",
    "    top_node.visited = True\n",
    "    \n",
    "    while len(queue):\n",
    "        \n",
    "        if debug: print \"queue (should be long): \",queue \n",
    "        curr_node = queue.pop(0) # Dequeue\n",
    "        visit(curr_node)\n",
    "    \n",
    "        # Enqueue non-visited and non-enqueued children\n",
    "        for c in curr_node.children:\n",
    "            if c.visited == True:\n",
    "                continue\n",
    "            else:\n",
    "                queue.append(c)\n",
    "                c.visited = True"
   ]
  },
  {
   "cell_type": "code",
   "execution_count": 63,
   "metadata": {
    "collapsed": false
   },
   "outputs": [
    {
     "name": "stdout",
     "output_type": "stream",
     "text": [
      "test_graph: start, end, elapsed 238.17 238.21 0.04\n",
      "test_graph: start, end, elapsed 238.66 238.7 0.04\n",
      "test_graph: start, end, elapsed 238.91 238.97 0.06\n",
      "test_graph: start, end, elapsed 239.25 239.33 0.08\n",
      "test_graph: start, end, elapsed 239.99 240.09 0.1\n",
      "test_graph: start, end, elapsed 240.87 240.99 0.12\n",
      "test_graph: start, end, elapsed 241.9 242.06 0.16\n",
      "test_graph: start, end, elapsed 243.15 243.36 0.21\n",
      "test_graph: start, end, elapsed 245.1 245.37 0.27\n",
      "test_graph: start, end, elapsed 247.08 247.44 0.36\n"
     ]
    },
    {
     "data": {
      "image/png": "[encoded data removed]",
      "text/plain": [
       "<matplotlib.figure.Figure at 0x115d5a750>"
      ]
     },
     "metadata": {},
     "output_type": "display_data"
    }
   ],
   "source": [
    "def test_and_plot_complexity(func, low=4, high=5, nsteps=10, k=2, title='', log=True):\n",
    "    \"\"\"\n",
    "    func: bfs function\n",
    "    low and high are both log of n nodes being tested in the graphs\n",
    "    nsteps: amount of datapoints\n",
    "    log: log scale?\n",
    "    k: number of edges in graphs being tested\n",
    "    \"\"\"\n",
    "    \n",
    "    times = []\n",
    "    ns = np.logspace(low, high, nsteps)\n",
    "    for n in ns:\n",
    "        n = int(n)\n",
    "        times.append(test_graph(n, func=func, k =k))   \n",
    "    \n",
    "    fit_complexity(ns, times, title=title, log=log)\n",
    "\n",
    "test_and_plot_complexity(bfs2, log=False, title='plotting run times for improved breadth first search')"
   ]
  },
  {
   "cell_type": "markdown",
   "metadata": {},
   "source": [
    "The two performance errors were that for each node:\n",
    "* the list of visited nodes was getting looped through every time - this was solved by marking each node.  This way checking a node happens in constant time rather than in the linear time that it takes to look through the loop.\n",
    "* the queue was getting looped through every time - this was totally unncessary once the nodes were getting marked as visited."
   ]
  },
  {
   "cell_type": "markdown",
   "metadata": {},
   "source": [
    "##Small World Graphs\n",
    "*  **clustering** is a measure of \"cliquishness\".  a **clique** is a subset of nodes that are all connected to each other.  there is a clustering coefficent that quantifies the likelihood that two nodes that are connected to the same node are also connected to each other.\n",
    "\n",
    "* Path Length\n",
    "\n",
    "regular graphs have high clustering and high path length.  random graphs of the same size have low clustering and low path length.  Neither is good for social networks, which have high clustering and low path length.\n",
    "\n",
    "**generative model** tries to explain a phenomenon by modeling the process that builds or leads to the phenomenon.\n",
    "\n",
    "1. Start with a regular graph with n nodes and degree k.\n",
    "2. Choose a subset of edges in the graph and \"rewire\" them by replacing them with random edges.  proportion of edges that are rewired is a parameter p, that controls how random the graph is.  if p == 0, the graph is regular.  With p == 1, it is random.\n",
    "\n",
    "W+S found that small values of p yield graphs with high clustering and low path length.\n",
    "\n",
    "###Exercise 4.3 \n",
    "read Watts and Strogatz paper...\n",
    "1. What process do W+S use to rewire their graphs?\n",
    "    * loop through every vertices and with prob p, reconnect edge that connects to nearest neighbor to some other random edge.  Duplicate edges forbidden.\n",
    "    * do same thing with edges connecting vertice to next largest edge.  do this k/2 times.\n",
    "\n",
    "2. What is the definition of the clustering coefficient C(p)?\n",
    "    * cliquishness of a typical neighborhood.  Suppose vertex v has $k_v$ neightbors.  At most, $k_v(k_v-1)/2$ edges can exist between neighbors.  $C_v$ is the fraction of those allowable edges that actually exist.  C is the average of $C_v$ over all v.  In a social network, c indicates the extend to which friends of v are also freinds of each other.\n",
    "3. What is the definition of the average path length L(p)?\n",
    "    * typical separation between two vertices.  Number of edges in the shortest path between two vertices averaged over all pairs of vertices.\n",
    "4. What real-world graphs did W+S look at?  What evidence do they present that these graphs have the same structure as the graphs generated by their model.\n",
    "    * collaboration graph of actors\n",
    "    * electrical power grid of western US\n",
    "    * neural network of nematode\n",
    "    \n",
    "   the evidence that they use to conclude that these graphs have the same structure as their generative model is that the L values are pretty low but the C values are pretty high.\n",
    "   \n",
    "##Exercise 4.4"
   ]
  },
  {
   "cell_type": "code",
   "execution_count": 142,
   "metadata": {
    "collapsed": false
   },
   "outputs": [
    {
     "data": {
      "text/plain": [
       "0.5"
      ]
     },
     "execution_count": 142,
     "metadata": {},
     "output_type": "execute_result"
    }
   ],
   "source": [
    "from RandomGraph import *\n",
    "from Graph import *\n",
    "import random\n",
    "import numpy as np\n",
    "\n",
    "class SmallWorldGraph(RandomGraph):\n",
    "\n",
    "    def __init__(self, generate=True, n=20, k=4):\n",
    "        try:\n",
    "            err = 'n must be > k'\n",
    "            assert n > k\n",
    "            err = 'k must be > ln(n)'\n",
    "            assert k > np.log(n)\n",
    "            err = 'ln(n) must be > 1'\n",
    "            assert np.log(n) > 1\n",
    "        except AssertionError:\n",
    "            raise ValueError('illegal starting values for small world graph:' + err)\n",
    "        \n",
    "        RandomGraph.__init__(self)\n",
    "        if generate:\n",
    "            for i in range(n):\n",
    "                v = Vertex(i)\n",
    "    #             v.visited = True\n",
    "                self.add_vertex(v)\n",
    "            self.add_regular_edges(k)\n",
    "    \n",
    "    def rewire(self, p):\n",
    "        edges = self.edges()\n",
    "        vertices = self.vertices()\n",
    "        for e in edges:\n",
    "            if random.random() < p:\n",
    "                v, w = e\n",
    "                self.remove_edge(e)\n",
    "                w_new = random.choice(vertices)\n",
    "                while w_new == v or w_new in self.out_vertices(v):\n",
    "                    w_new = random.choice(vertices)\n",
    "                self.add_edge((v, w_new))\n",
    "                \n",
    "    def clustering_coefficient(self):\n",
    "        vertices = self.vertices()\n",
    "        cs = []\n",
    "        for v in vertices:\n",
    "            c = self.local_clustering_coefficient(v)\n",
    "            cs.append(c)\n",
    "        \n",
    "        return np.mean(cs)\n",
    "    \n",
    "    def local_clustering_coefficient(self, v, debug=False):\n",
    "        neighbors = self.out_vertices(v)\n",
    "        possible = len(neighbors)*(len(neighbors)-1)/2.0\n",
    "        \n",
    "        actual = sum(1 for n1 in neighbors\n",
    "             for n2 in self.out_vertices(n1)\n",
    "             if n2 in neighbors)\n",
    "        \n",
    "        actual = actual/2.0\n",
    "        if possible == 0:\n",
    "            return 0\n",
    "        \n",
    "        if debug: print 'local cc: ', actual, possible\n",
    "        return float(actual)/possible\n",
    "\n",
    "swg = SmallWorldGraph(True, 8, 4)\n",
    "# show_graph(swg)\n",
    "swg.rewire(0)\n",
    "# ShowGraph(swg)\n",
    "swg.clustering_coefficient()"
   ]
  },
  {
   "cell_type": "code",
   "execution_count": 63,
   "metadata": {
    "collapsed": false
   },
   "outputs": [
    {
     "data": {
      "image/png": "[encoded data removed]",
      "text/plain": [
       "<matplotlib.figure.Figure at 0x10a1352d0>"
      ]
     },
     "metadata": {},
     "output_type": "display_data"
    },
    {
     "data": {
      "image/png": "[encoded data removed]",
      "text/plain": [
       "<matplotlib.figure.Figure at 0x10a135350>"
      ]
     },
     "metadata": {},
     "output_type": "display_data"
    }
   ],
   "source": [
    "import matplotlib.pyplot as plt\n",
    "%matplotlib inline\n",
    "def plot_clustering_coefficients(steps=10, n=50, k=4, n_trials=10, log=True):\n",
    "    \n",
    "    def get_clustering_coefficient(n, k, p):\n",
    "        swg = SmallWorldGraph(True, n, k)\n",
    "        swg.rewire(p)\n",
    "        return swg.clustering_coefficient()\n",
    "    \n",
    "    c_0 = get_clustering_coefficient(n, k, 0)\n",
    "\n",
    "    ps = np.logspace(-4,0,steps)\n",
    "    cs = []\n",
    "    for p in ps:\n",
    "        c = np.mean([get_clustering_coefficient(n, k, p)/c_0 for i in range(n_trials)])\n",
    "        cs.append(c)\n",
    "    \n",
    "    fig, ax = plt.subplots()\n",
    "    ax.scatter(ps, cs)\n",
    "    ax.set_xlabel('p')\n",
    "    ax.set_ylabel('C(p)/C(0)')\n",
    "    ax.set_title('Normalized Clustering Coeffiecient in Watts/Strogatz\\n' +\n",
    "                 'graphs for a Range of Ps')\n",
    "    if log:\n",
    "        ax.set_xscale('log')\n",
    "        ax.set_xlim((ps[0],ps[-1]))\n",
    "    fig.tight_layout()\n",
    "plot_clustering_coefficients(log=True)\n",
    "plot_clustering_coefficients(log=False)\n",
    "plt.show()\n",
    "        "
   ]
  },
  {
   "cell_type": "markdown",
   "metadata": {},
   "source": [
    "What this shows is that clustering falls of linearly with the probability p untill it becomes pretty sparse for higher values of p.  The paper says something to the tune of, rewirings are not felt locally.\n",
    "\n",
    "**Dijkstra's algorithm** solves the sinlge source shortest path problem - i.e. it finds the minimum distance from a given \"source\" node to every other node in the graph.\n",
    "\n",
    "First, a *simplified version* (all edges same length):\n",
    "* similar to bfs, except instead of marking nodes as visited, we label them with their distance from the source.\n",
    "* Initially, nodes are labeld with infinite distance\n",
    "* Uses queue of discovered, unvisited nodes.\n",
    "\n",
    "\n",
    "1. Give source node distance 0 and add it to the queue.  Give all other nodes an infinite distance\n",
    "2. Remove a vertex from the queue and assign its distance to d.  Find the vertices it is connected to.  For each connected vetex with infinite distance, replace the distance with d + 1 and add it to the queue.\n",
    "3. If queue is not empty, go back to step 2.\n",
    "\n",
    "##Exercise 4.5"
   ]
  },
  {
   "cell_type": "code",
   "execution_count": 99,
   "metadata": {
    "collapsed": false
   },
   "outputs": [
    {
     "name": "stdout",
     "output_type": "stream",
     "text": [
      "0.0\n"
     ]
    }
   ],
   "source": [
    "import os\n",
    "\n",
    "def etime():\n",
    "    \"\"\"See how much user and system time this process has used\n",
    "    so far and return the sum\"\"\"\n",
    "    user, sys, chuser, chsys, real = os.times()\n",
    "    return user+sys\n",
    "\n",
    "start = etime()\n",
    "\n",
    "# put the code you want to measure here\n",
    "\n",
    "end = etime()\n",
    "elapsed = end - start\n",
    "print elapsed"
   ]
  },
  {
   "cell_type": "code",
   "execution_count": 108,
   "metadata": {
    "collapsed": false
   },
   "outputs": [
    {
     "data": {
      "text/plain": [
       "array([  31.6227766 ,   42.16965034,   56.23413252,   74.98942093,  100.        ])"
      ]
     },
     "execution_count": 108,
     "metadata": {},
     "output_type": "execute_result"
    }
   ],
   "source": [
    "np.logspace(1.5, 2, 5)"
   ]
  },
  {
   "cell_type": "code",
   "execution_count": 147,
   "metadata": {
    "collapsed": false
   },
   "outputs": [
    {
     "name": "stdout",
     "output_type": "stream",
     "text": [
      "times [0.009999999999990905, 0.009999999999990905, 0.009999999999990905, 0.020000000000010232, 0.01999999999998181] [6.219999999999999, 10.889999999999986, 19.26000000000002, 34.349999999999994, 61.23000000000002]\n"
     ]
    },
    {
     "data": {
      "image/png": "[encoded data removed]",
      "text/plain": [
       "<matplotlib.figure.Figure at 0x10c88b990>"
      ]
     },
     "metadata": {},
     "output_type": "display_data"
    },
    {
     "data": {
      "image/png": "[encoded data removed]",
      "text/plain": [
       "<matplotlib.figure.Figure at 0x10c9b5710>"
      ]
     },
     "metadata": {},
     "output_type": "display_data"
    }
   ],
   "source": [
    "def plot_run_time_djikstra(k=10, low=3, high=3.5, nsteps=5):\n",
    "    ns = np.logspace(low, high, nsteps)\n",
    "    times_simple, times_allpairs = [], []\n",
    "    for n in ns:\n",
    "        n = int(n)\n",
    "        swg = SmallWorldGraph(n=n, k=k)\n",
    "        \n",
    "        #all_source\n",
    "        start = etime()\n",
    "        swg.simple()\n",
    "        end = etime()\n",
    "        elapsed = end - start\n",
    "        times_simple.append(elapsed)\n",
    "        \n",
    "        #all_pairs\n",
    "        start = etime()\n",
    "        swg.average_path_lengths()\n",
    "        end = etime()\n",
    "        elapsed = end - start\n",
    "        times_allpairs.append(elapsed)\n",
    "    \n",
    "    print \"times\", times_simple, times_allpairs\n",
    "    fig1, ax1 = plt.subplots()\n",
    "    fit_complexity(ns, times_simple, log=False, ax=ax1, title='simple Djikstra - single shource shortest path')\n",
    "    fig, ax2 = plt.subplots()\n",
    "    fit_complexity(ns, times_allpairs, ax=ax2, title='all-pairs Djikstra')\n",
    "\n",
    "plot_run_time_djikstra()\n",
    "# plt.show()\n",
    "        \n",
    "        "
   ]
  },
  {
   "cell_type": "code",
   "execution_count": 127,
   "metadata": {
    "collapsed": false
   },
   "outputs": [],
   "source": [
    "class Djikstra(object):\n",
    "    \n",
    "    def __init__(self, graph):\n",
    "        self.graph = graph\n",
    "    \n",
    "    def simple(self, src=None):\n",
    "        \"\"\"\n",
    "        returns avg path length\n",
    "        \"\"\"\n",
    "        graph = self.graph\n",
    "        Ls = [] #path lengths \n",
    "        \n",
    "        vertices = graph.vertices()\n",
    "        for v in vertices:\n",
    "            v.distance = np.inf\n",
    "            v.color = 'white'\n",
    "        if src is None:\n",
    "            src = vertices[0]\n",
    "        src.distance = 0\n",
    "        src.color = 'red'\n",
    "\n",
    "        # 1.\n",
    "        queue = [src]\n",
    "\n",
    "        # 2. (and 3.) \n",
    "        while len(queue):\n",
    "            curr = queue.pop(0)\n",
    "            for v in graph.out_vertices(curr):\n",
    "                if v.distance != np.inf:\n",
    "                    continue\n",
    "                v.distance = curr.distance + 1\n",
    "                Ls.append(v.distance)\n",
    "                queue.append(v)\n",
    "        \n",
    "        return np.mean(Ls)\n",
    "    \n",
    "    def update_labels(self):\n",
    "        vertices = self.graph.vertices()\n",
    "        for v in vertices:\n",
    "            v.label = '%s, dist=%d' % (v.label, v.distance)\n",
    "        \n",
    "    def show(self):\n",
    "        self.update_labels()\n",
    "        show_graph(self.graph)\n",
    "    \n",
    "    def average_path_lengths(self):\n",
    "        graph = self.graph\n",
    "        vertices = graph.vertices()\n",
    "        \n",
    "        ls = []\n",
    "        for v in vertices:\n",
    "            ls.append(self.simple(v))\n",
    "        return np.mean(ls)\n",
    "            \n",
    "    def all_pairs(self, src=None):\n",
    "        graph = self.graph\n",
    "        vertices = graph.vertices()\n",
    "        \n",
    "        pairs = [(v1, v2) for v1 in vertices for v2 in vertices if v1 !=v2]\n",
    "        \n",
    "        \n",
    "swg = SmallWorldGraph(True, 20, 4)\n",
    "swg.rewire(.6)\n",
    "d = Djikstra(swg)\n",
    "d.all_pairs()\n",
    "# d.show()\n",
    "# d.average_path_lengths()"
   ]
  },
  {
   "cell_type": "code",
   "execution_count": 143,
   "metadata": {
    "collapsed": false
   },
   "outputs": [],
   "source": [
    "def _average_path_length(self):\n",
    "    d = Djikstra(self)\n",
    "    return d.average_path_lengths()\n",
    "SmallWorldGraph.average_path_lengths = _average_path_length\n",
    "\n",
    "def _simple(self, src=None):\n",
    "    d = Djikstra(self)\n",
    "    return d.simple(src=src)\n",
    "SmallWorldGraph.simple = _simple"
   ]
  },
  {
   "cell_type": "code",
   "execution_count": 51,
   "metadata": {
    "collapsed": false
   },
   "outputs": [
    {
     "data": {
      "image/png": "[encoded data removed]",
      "text/plain": [
       "<matplotlib.figure.Figure at 0x10a08e850>"
      ]
     },
     "metadata": {},
     "output_type": "display_data"
    },
    {
     "data": {
      "image/png": "[encoded data removed]",
      "text/plain": [
       "<matplotlib.figure.Figure at 0x10a6b0690>"
      ]
     },
     "metadata": {},
     "output_type": "display_data"
    }
   ],
   "source": [
    "import matplotlib.pyplot as plt\n",
    "%matplotlib inline\n",
    "def plot_average_path_length(steps=10, n=100, k=6, n_trials=10, log=True):\n",
    "    \n",
    "    def get_path_length(n, k, p):\n",
    "        swg = SmallWorldGraph(True, n, k)\n",
    "        swg.rewire(p)\n",
    "        d = Djikstra(swg)\n",
    "        return d.average_path_lengths()\n",
    "    \n",
    "    L_0 = get_path_length(n, k, 0)\n",
    "\n",
    "    ps = np.logspace(-4,0,steps)\n",
    "    Ls = []\n",
    "    for p in ps:\n",
    "        L = np.mean([get_path_length(n, k, p)/L_0 for i in range(n_trials)])\n",
    "        Ls.append(L)\n",
    "    \n",
    "    fig, ax = plt.subplots()\n",
    "    ax.scatter(ps, Ls)\n",
    "    ax.set_xlabel('p')\n",
    "    ax.set_ylabel('L(p)/L(0)')\n",
    "    ax.set_title('Normalized Average Path Length in\\n' +\n",
    "                 'Watts/Strogatz graphs for a Range of Ps')\n",
    "    if log:\n",
    "        ax.set_xscale('log')\n",
    "        ax.set_xlim((ps[0],ps[-1]))\n",
    "    fig.tight_layout()\n",
    "plot_average_path_length()\n",
    "plot_average_path_length(log=False)\n",
    "plt.show()\n",
    "        "
   ]
  },
  {
   "cell_type": "markdown",
   "metadata": {},
   "source": [
    "What this graph demonstrates is that rewiring quickly lowers the average path length.\n",
    "##4.6"
   ]
  },
  {
   "cell_type": "code",
   "execution_count": 85,
   "metadata": {
    "collapsed": false
   },
   "outputs": [
    {
     "name": "stdout",
     "output_type": "stream",
     "text": [
      "cc 0.523333333333\n",
      "al 6.83205128205\n",
      "cc 0.0916666666667\n",
      "al 4.26282051282\n"
     ]
    }
   ],
   "source": [
    "import math\n",
    "class NearestNeighbors(SmallWorldGraph):\n",
    "    \n",
    "    def __init__(self, n=10, k=1):\n",
    "        \n",
    "        SmallWorldGraph.__init__(self)\n",
    "        \n",
    "        ## 1. choose random x, y position for all vertices\n",
    "        for i in range(n):\n",
    "            v = Vertex(i)\n",
    "            v.x = random.random() * 100\n",
    "            v.y = random.random() * 100\n",
    "            v.dist = np.inf\n",
    "            self.add_vertex(v)\n",
    "        \n",
    "        ## 2. attach egdes to the k closest neighbors\n",
    "        vertices = self.vertices()\n",
    "        for v in vertices:\n",
    "            k_nearest = []\n",
    "            for v2 in vertices:\n",
    "                if v == v2: continue\n",
    "                if len(k_nearest) < k:\n",
    "                    k_nearest.append(v2)\n",
    "                    continue\n",
    "                v2.dist = math.sqrt((v.x - v2.x)**2 + (v.y - v2.y)**2)\n",
    "                try:\n",
    "                    curr_max = max(k_nearest, key=lambda k_n: k_n.dist)\n",
    "                except ValueError:\n",
    "                    curr_max = v2\n",
    "                    continue\n",
    "                \n",
    "                if v2.dist <= curr_max.dist:\n",
    "                    k_nearest.remove(curr_max)\n",
    "                    k_nearest.append(v2)\n",
    "            \n",
    "            assert len(k_nearest) == k\n",
    "            for neighbor in k_nearest:\n",
    "                self.add_edge((v, neighbor))\n",
    "        \n",
    "        self.find_islands()\n",
    "\n",
    "    def find_islands(self):\n",
    "        vs = self.vertices()\n",
    "        conn_leaders = []\n",
    "\n",
    "        while len(vs):\n",
    "            self.max_conns = vs[0]\n",
    "            visited = self.bfs(vs[0], self.store_max_conns)\n",
    "            for v in visited:\n",
    "                vs.remove(v)\n",
    "            conn_leaders.append(self.max_conns)\n",
    "\n",
    "        for leader in conn_leaders:\n",
    "            for leader2 in conn_leaders:\n",
    "                if leader == leader2: continue\n",
    "                self.add_edge((leader, leader2))\n",
    "\n",
    "    def store_max_conns(self, v):\n",
    "        if len(self.out_vertices(v)) > len(self.out_vertices(self.max_conns)):\n",
    "            self.max_conns = v\n",
    "            \n",
    "    def rewire(self, p):\n",
    "        edges = self.edges()\n",
    "        vertices = self.vertices()\n",
    "        for e in edges:\n",
    "            if random.random() < p:\n",
    "                v, w = e\n",
    "                self.remove_edge(e)\n",
    "                w_new = random.choice(vertices)\n",
    "                while w_new == v:\n",
    "                    w_new = random.choice(vertices)\n",
    "                self.add_edge((v, w_new))\n",
    "nn = NearestNeighbors(n=40, k=2)\n",
    "# print nn.is_connected()\n",
    "ShowGraph(nn)\n",
    "nn.find_islands()\n",
    "ShowGraph(nn)\n",
    "print 'cc', nn.clustering_coefficient()\n",
    "print 'al', nn.average_path_lengths()\n",
    "nn.rewire(.4)\n",
    "ShowGraph(nn)\n",
    "print 'cc', nn.clustering_coefficient()\n",
    "print 'al', nn.average_path_lengths()"
   ]
  },
  {
   "cell_type": "markdown",
   "metadata": {},
   "source": [
    "the right way to do this is a little more complicated.  What I think is happening is that edges are getting removed such that most vertices do not have the right amount of edges, or, in the most recent case, the match of vertices no longer exists.\n",
    "\n",
    "What I am going to do about this is build up a sorted queue for each vertex.  Then I am going to loop through each vertex again and add the k nearest edges."
   ]
  },
  {
   "cell_type": "code",
   "execution_count": 130,
   "metadata": {
    "collapsed": false
   },
   "outputs": [
    {
     "name": "stdout",
     "output_type": "stream",
     "text": [
      "[1.0742612460003769, 1.0597794717359936, 1.0708780350084701, 1.0703975098243874, 1.0457227555053645, 0.95989924655932568, 0.9566299642386602, 0.70548497396323495, 0.33903475751301843, 0.052518978605935143] [17.233001956322116, 17.761089152393502, 16.811474428075222, 15.808442282355333, 14.98015730426798, 13.199584780612451, 11.957320237952652, 9.293608016928177, nan, nan]\n"
     ]
    },
    {
     "data": {
      "image/png": "[encoded data removed]",
      "text/plain": [
       "<matplotlib.figure.Figure at 0x10ba87f10>"
      ]
     },
     "metadata": {},
     "output_type": "display_data"
    }
   ],
   "source": [
    "def plot_cc_and_pl(generator=NearestNeighbors, steps=10, n=100, k=3, n_trials=10, log=True):\n",
    "    \n",
    "    def graph_func(n, k, p):\n",
    "        swg = generator(n=n, k=k)\n",
    "        swg.rewire(p)\n",
    "        return swg.clustering_coefficient(), swg.average_path_lengths()\n",
    "    \n",
    "    c_0s, L_0s = [],[]\n",
    "    for i in range(n_trials):\n",
    "        c_0, L_0 = graph_func(n, k, 0)\n",
    "        c_0s.append(c_0)\n",
    "        L_0s.append(L_0)\n",
    "    c_0, L_0 = np.mean(c_0), np.mean(L_0)\n",
    "    \n",
    "    ps = np.logspace(-4,0,steps)\n",
    "    cs, Ls = [], []\n",
    "    for p in ps:\n",
    "        res = [graph_func(n, k, p)/c_0 for i in range(n_trials)]\n",
    "        c, L = zip(*res)\n",
    "        cs.append(np.mean(c))\n",
    "        Ls.append(np.mean(L))\n",
    "    print cs, Ls\n",
    "    \n",
    "    fig, ax = plt.subplots(2,1)\n",
    "    ax[0].scatter(ps, cs, label='C(p)/C(0)')\n",
    "    ax[0].set_ylabel('C(p)/C(0)')\n",
    "    ax[1].scatter(ps, Ls, label='L(p)/L(0)')\n",
    "    ax[1].set_ylabel('L(p)/L(0)')\n",
    "    ax[1].set_xlabel('p')\n",
    "    \n",
    "    ax[0].set_title('Normalized Clustering Coeffiecients and Path\\n'  +\n",
    "                    'Lengths in Watts/Strogatz graphs for a Range of Ps')\n",
    "    if log:\n",
    "        for x in ax:\n",
    "            x.set_xscale('log')\n",
    "            x.set_xlim((ps[0],ps[-1]))\n",
    "    fig.tight_layout()\n",
    "\n",
    "def graph_func(n, k, p):\n",
    "    nn = NearestNeighbors(n, k)\n",
    "    nn.rewire(p)\n",
    "    return nn.clustering_coefficient(), nn.average_path_lengths()\n",
    "\n",
    "plot_cc_and_pl()\n",
    "plt.show()"
   ]
  },
  {
   "cell_type": "code",
   "execution_count": null,
   "metadata": {
    "collapsed": false
   },
   "outputs": [],
   "source": []
  },
  {
   "cell_type": "code",
   "execution_count": 69,
   "metadata": {
    "collapsed": false
   },
   "outputs": [
    {
     "data": {
      "text/plain": [
       "3.0"
      ]
     },
     "execution_count": 69,
     "metadata": {},
     "output_type": "execute_result"
    }
   ],
   "source": [
    "np.mean((2,4))"
   ]
  },
  {
   "cell_type": "code",
   "execution_count": null,
   "metadata": {
    "collapsed": true
   },
   "outputs": [],
   "source": []
  }
 ],
 "metadata": {
  "kernelspec": {
   "display_name": "Python 2",
   "language": "python",
   "name": "python2"
  },
  "language_info": {
   "codemirror_mode": {
    "name": "ipython",
    "version": 2
   },
   "file_extension": ".py",
   "mimetype": "text/x-python",
   "name": "python",
   "nbconvert_exporter": "python",
   "pygments_lexer": "ipython2",
   "version": "2.7.10"
  }
 },
 "nbformat": 4,
 "nbformat_minor": 0
}
