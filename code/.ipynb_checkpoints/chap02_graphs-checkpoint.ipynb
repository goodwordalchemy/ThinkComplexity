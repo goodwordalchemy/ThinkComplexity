{
 "cells": [
  {
   "cell_type": "markdown",
   "metadata": {},
   "source": [
    "**graph** - abstraction used to model a system that contains discrete, interconnected elements.  Elements are represented by **nodes** and interconnections are represented by **edges**.\n",
    "\n",
    "edges may be **undirected** - that is symmetric, or **directed**.  a **path** is a sequence of nodes with an edge between each consecutive pair.\n",
    "\n",
    "**applying graph algorithms**\n",
    "* Reduce - a real world problem to an instance of a graph problem\n",
    "* Apply - a graph problem to compute the result efficiently\n",
    "* Interpret the result of the computation in terms of a solution to the original problem.\n",
    "\n",
    "###Exercise 2.1\n",
    "1. **simple graph** - an undirected graph with no loops and no more than one edge between any two nodes.  Edges form a set of distinct pairs of edges.  **degree**, that is the number of edges connected to any given node, is at most n - 1.\n",
    "\n",
    "2. **regular graph** is one where each node has the same number of edges.  a **complete graph** is one where each node is connected by an edge  to every other node.  The degree of every node in this case is n-1, so all nodes have the same degree and are therefore regular graphs.\n",
    "\n",
    "3. a **path** is a finite sequence of edges connecting two edges.  a **cycle** is some number of vertices that comprise a closed chain.\n",
    "\n",
    "4. a **forest** is a graph with no cycles.  A **tree** is a **connected** graph with no cycles.  A graph is connected if there is a path from every node to every other node"
   ]
  },
  {
   "cell_type": "code",
   "execution_count": 1,
   "metadata": {
    "collapsed": false
   },
   "outputs": [],
   "source": [
    "class Graph(dict):\n",
    "    \n",
    "    def __init__(self, vs=[], es=[]):\n",
    "        \"\"\"creates a new graph.  \n",
    "        (vs) is a list of vertices;\n",
    "        (es) is a list of edges.\"\"\"\n",
    "        for v in vs:\n",
    "            self.add_vertex(v)\n",
    "        \n",
    "        for e in es:\n",
    "            self.add_edge(e)\n",
    "            \n",
    "    def add_vertex(self, v):\n",
    "        \"\"\"add (v) to the graph\"\"\"\n",
    "        self[v] = {}\n",
    "    \n",
    "    def add_edge(self, e):\n",
    "        \"\"\"add (e) to the graph by adding an entry \n",
    "        in both directions.  If there is already an\n",
    "        edge connecting these Vertices, the new edge\n",
    "        replaces it\"\"\"\n",
    "        v, w = e\n",
    "        self[v][w] = e\n",
    "        self[w][v] = e\n",
    "\n",
    "class Vertex(object):\n",
    "    \"\"\"object that has a label attribute\"\"\"\n",
    "    def __init__(self, label=''):\n",
    "        self.label = label\n",
    "    \n",
    "    def __repr__(self):\n",
    "        return 'Vertex(%s)' % repr(self.label)\n",
    "    \n",
    "    __str__ = __repr__\n",
    "\n",
    "class Edge(tuple):\n",
    "    def __new__(cls, e1, e2):\n",
    "        return tuple.__new__(cls, (e1, e2))\n",
    "    \n",
    "    def __repr__(self):\n",
    "        return 'Edge(%s, %s)' % (repr(self[0]), repr(self[1]))\n",
    "    \n",
    "    __str__ = __repr__"
   ]
  },
  {
   "cell_type": "code",
   "execution_count": 2,
   "metadata": {
    "collapsed": false
   },
   "outputs": [
    {
     "name": "stdout",
     "output_type": "stream",
     "text": [
      "Edge(Vertex('v'), Vertex('w'))\n"
     ]
    }
   ],
   "source": [
    "v = Vertex('v')\n",
    "w = Vertex('w')\n",
    "e = Edge(v, w)\n",
    "print e"
   ]
  },
  {
   "cell_type": "code",
   "execution_count": 3,
   "metadata": {
    "collapsed": false
   },
   "outputs": [
    {
     "name": "stdout",
     "output_type": "stream",
     "text": [
      "{Vertex('v'): {Vertex('w'): Edge(Vertex('v'), Vertex('w'))}, Vertex('w'): {Vertex('v'): Edge(Vertex('v'), Vertex('w'))}}\n"
     ]
    }
   ],
   "source": [
    "g = Graph([v, w], [e])\n",
    "print g"
   ]
  },
  {
   "cell_type": "markdown",
   "metadata": {
    "collapsed": true
   },
   "source": [
    "###Exercise 2.2"
   ]
  },
  {
   "cell_type": "code",
   "execution_count": 8,
   "metadata": {
    "collapsed": false
   },
   "outputs": [
    {
     "name": "stdout",
     "output_type": "stream",
     "text": [
      "Vertex('v')\n",
      "Vertex('w')\n",
      "Edge(Vertex('v'), Vertex('w'))\n",
      "{Vertex('v'): {Vertex('w'): Edge(Vertex('v'), Vertex('w'))}, Vertex('w'): {Vertex('v'): Edge(Vertex('v'), Vertex('w'))}}\n"
     ]
    }
   ],
   "source": [
    "#1\n",
    "import GraphCode\n",
    "\n",
    "GraphCode.main(GraphCode)"
   ]
  },
  {
   "cell_type": "code",
   "execution_count": 98,
   "metadata": {
    "collapsed": false
   },
   "outputs": [],
   "source": [
    "#2\n",
    "class Graph(dict):\n",
    "    \n",
    "    def __init__(self, vs=[], es=[]):\n",
    "        \"\"\"creates a new graph.  \n",
    "        (vs) is a list of vertices;\n",
    "        (es) is a list of edges.\"\"\"\n",
    "        for v in vs:\n",
    "            self.add_vertex(v)\n",
    "        \n",
    "        for e in es:\n",
    "            self.add_edge(e)\n",
    "            \n",
    "    def add_vertex(self, v):\n",
    "        \"\"\"add (v) to the graph\"\"\"\n",
    "        self[v] = {}\n",
    "    \n",
    "    def add_edge(self, e):\n",
    "        \"\"\"add (e) to the graph by adding an entry \n",
    "        in both directions.  If there is already an\n",
    "        edge connecting these Vertices, the new edge\n",
    "        replaces it\"\"\"\n",
    "        v, w = e\n",
    "        self[v][w] = e\n",
    "        self[w][v] = e\n",
    "    \n",
    "    #3\n",
    "    def get_edge(self, e):\n",
    "        v, w = e\n",
    "        \"\"\"takes two vertices and returns the edge\n",
    "        connecting them, if one exists\"\"\"\n",
    "        try:\n",
    "            return self[v][w]\n",
    "        except KeyError:\n",
    "            return None\n",
    "    #4\n",
    "    def remove_edge(self, e):\n",
    "        v, w = e\n",
    "        del self[v][w]\n",
    "        del self[w][v]\n",
    "    \n",
    "    #5 \n",
    "    def vertices(self):\n",
    "        return self.keys()\n",
    "    \n",
    "    #6\n",
    "    def edges(self):\n",
    "        es = []\n",
    "        for i in self.keys():\n",
    "            for j in self[i].keys():\n",
    "                es.append(Edge(i, j))\n",
    "        return es\n",
    "    \n",
    "    #7\n",
    "    def out_vertices(self, v):\n",
    "        \"\"\"returns list of vertex vs adjacent vetices\"\"\"\n",
    "        return self[v].keys()\n",
    "    \n",
    "    #8 \n",
    "    def out_edges(self, v):\n",
    "        es = []\n",
    "        vs = self.out_vertices(v)\n",
    "        for v_adj in vs:\n",
    "            es.append(self.get_edge((v, v_adj)))\n",
    "        return es\n",
    "    \n",
    "    #9\n",
    "    def add_all_edges(self):\n",
    "        \"\"\"makes complete graph\"\"\"\n",
    "        vs = self.vertices()\n",
    "        for v1 in vs:\n",
    "            for v2 in vs:\n",
    "                if v1 == v2:\n",
    "                    continue\n",
    "                else:\n",
    "                    self.add_edge((v1, v2))\n",
    "    #Exercise 2.3\n",
    "    def add_regular_edges(self, k):\n",
    "        \"\"\"k is number of edges in regular graph\"\"\"\n",
    "        from random import choice\n",
    "        \n",
    "        vertices = self.vertices()\n",
    "        n = len(vertices)\n",
    "        \n",
    "        if k >= n:\n",
    "            raise ValueError('degree is greater than order of graph')\n",
    "        \n",
    "        for v in vertices:\n",
    "            for i in range(k):\n",
    "                r_choice = choice(vertices)\n",
    "                while r_choice == v or r_choice in self.out_vertices(v):\n",
    "                    r_choice = choice(vertices)\n",
    "                self.add_edge((v, r_choice))\n",
    "            \n",
    "    \n",
    "class Vertex(object):\n",
    "    \"\"\"object that has a label attribute\"\"\"\n",
    "    def __init__(self, label=''):\n",
    "        self.label = label\n",
    "    \n",
    "    def __repr__(self):\n",
    "        return 'Vertex(%s)' % repr(self.label)\n",
    "    \n",
    "    __str__ = __repr__\n",
    "\n",
    "class Edge(tuple):\n",
    "    def __new__(cls, e1, e2):\n",
    "        return tuple.__new__(cls, (e1, e2))\n",
    "    \n",
    "    def __repr__(self):\n",
    "        return 'Edge(%s, %s)' % (repr(self[0]), repr(self[1]))\n",
    "    \n",
    "    __str__ = __repr__\n",
    "\n"
   ]
  },
  {
   "cell_type": "code",
   "execution_count": 100,
   "metadata": {
    "collapsed": false
   },
   "outputs": [
    {
     "name": "stdout",
     "output_type": "stream",
     "text": [
      "[Vertex('v'), Vertex('x'), Vertex('w'), Vertex('t'), Vertex('u')]\n",
      "Vertex('v')\n",
      "[Vertex('v'), Vertex('x'), Vertex('w'), Vertex('t'), Vertex('u')]\n",
      "Vertex('x')\n",
      "[Vertex('v'), Vertex('x'), Vertex('w'), Vertex('t'), Vertex('u')]\n",
      "Vertex('v')\n",
      "[Vertex('v'), Vertex('x'), Vertex('w'), Vertex('t'), Vertex('u')]\n",
      "Vertex('w')\n",
      "[Vertex('v'), Vertex('x'), Vertex('w'), Vertex('t'), Vertex('u')]\n",
      "Vertex('x')\n"
     ]
    }
   ],
   "source": [
    "v = Vertex('v')\n",
    "w = Vertex('w')\n",
    "u = Vertex('u')\n",
    "e = Edge(v, w)\n",
    "# print e\n",
    "g = Graph([v, w], [e])\n",
    "# print g\n",
    "\n",
    "#3\n",
    "# success_ret_e = g.get_edge((v, w)\n",
    "# fail_ret_e = g.get_edge((v, u))\n",
    "# print success_ret_e # should print 'Edge(Vertex('v'), Vertex('w'))'\n",
    "# print fail_ret_e # should print `None`\n",
    "\n",
    "#4\n",
    "# g.add_vertex(u)\n",
    "# e_to_remove = Edge(v, u)\n",
    "# print g\n",
    "\n",
    "# g.add_edge(e_to_remove)\n",
    "# print \n",
    "# print g\n",
    "\n",
    "# g.remove_edge(e_to_remove)\n",
    "# print\n",
    "# print g\n",
    "\n",
    "#5\n",
    "# print g.vertices()\n",
    "\n",
    "#6\n",
    "# print g.edges()\n",
    "\n",
    "#7\n",
    "# print g.out_vertices(v)\n",
    "\n",
    "#8\n",
    "# print g.out_edges(v)\n",
    "\n",
    "#9\n",
    "# g_complete = Graph([v, w, u])\n",
    "# g_complete.add_all_edges()\n",
    "# print g_complete\n",
    "\n",
    "#2.3\n",
    "x = Vertex('x')\n",
    "t = Vertex('t')\n",
    "g_regular = Graph([t, u, v, w, x])\n",
    "g_regular.add_regular_edges(2)\n",
    "\n",
    "import GraphWorld as GW\n",
    "\n",
    "layout = GW.CircleLayout(g_regular)\n",
    "gw = GW.GraphWorld()\n",
    "gw.show_graph(g_regular, layout)\n",
    "gw.mainloop()"
   ]
  },
  {
   "cell_type": "code",
   "execution_count": 68,
   "metadata": {
    "collapsed": false
   },
   "outputs": [],
   "source": [
    "\n"
   ]
  },
  {
   "cell_type": "code",
   "execution_count": 81,
   "metadata": {
    "collapsed": false
   },
   "outputs": [
    {
     "data": {
      "text/plain": [
       "'r'"
      ]
     },
     "execution_count": 81,
     "metadata": {},
     "output_type": "execute_result"
    }
   ],
   "source": [
    "import random\n",
    "random.choice(['r',2,3])"
   ]
  },
  {
   "cell_type": "code",
   "execution_count": null,
   "metadata": {
    "collapsed": true
   },
   "outputs": [],
   "source": []
  }
 ],
 "metadata": {
  "kernelspec": {
   "display_name": "Python 2",
   "language": "python",
   "name": "python2"
  },
  "language_info": {
   "codemirror_mode": {
    "name": "ipython",
    "version": 2
   },
   "file_extension": ".py",
   "mimetype": "text/x-python",
   "name": "python",
   "nbconvert_exporter": "python",
   "pygments_lexer": "ipython2",
   "version": "2.7.10"
  }
 },
 "nbformat": 4,
 "nbformat_minor": 0
}
